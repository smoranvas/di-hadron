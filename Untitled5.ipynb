{
 "cells": [
  {
   "cell_type": "code",
   "execution_count": null,
   "metadata": {},
   "outputs": [],
   "source": [
    "import ROOT\n",
    "from ROOT import TFile\n",
    "import numpy as np\n",
    "import matplotlib as mpl\n",
    "import matplotlib.pyplot as plt\n",
    "import copy\n",
    "import pandas as pd \n",
    "import time\n",
    "import uproot\n",
    "import uproot3\n",
    "import R2h_module as r2h\n",
    "import root_pandas as rpd\n",
    "from root_pandas import read_root\n",
    "from matplotlib import rc\n",
    "import seaborn as sns\n",
    "import cupy as cp, math, pylab\n",
    "import os, os.path\n",
    "mpl.rcParams.update({'font.size': 18})\n",
    "mpl.rcParams.update({'legend.fontsize': 20})\n",
    "mpl.rcParams.update({'xtick.labelsize': 13}) \n",
    "mpl.rcParams.update({'ytick.labelsize': 13}) \n",
    "mpl.rcParams.update({'text.usetex' : False})\n",
    "rc('font', weight='bold')\n",
    "colors = {}\n",
    "colors['C'] = '#1f77b4'\n",
    "colors['Fe'] = '#ff7f0e'\n",
    "colors['Pb']=  '#2ca02c'\n",
    "\n",
    "\n",
    "plt.rcParams['figure.facecolor']='white'\n",
    "plt.rcParams['savefig.facecolor']='white'\n",
    "plt.rcParams['savefig.bbox']='tight'"
   ]
  },
  {
   "cell_type": "code",
   "execution_count": null,
   "metadata": {},
   "outputs": [],
   "source": [
    "1"
   ]
  },
  {
   "cell_type": "code",
   "execution_count": null,
   "metadata": {},
   "outputs": [],
   "source": []
  }
 ],
 "metadata": {
  "kernelspec": {
   "display_name": "Python 3",
   "language": "python",
   "name": "python3"
  }
 },
 "nbformat": 4,
 "nbformat_minor": 4
}
