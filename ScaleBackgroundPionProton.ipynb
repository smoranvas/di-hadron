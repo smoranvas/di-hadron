{
 "cells": [
  {
   "cell_type": "code",
   "execution_count": 4,
   "id": "6aa946a0-17e3-465b-8899-7e6685c10938",
   "metadata": {},
   "outputs": [
    {
     "name": "stdout",
     "output_type": "stream",
     "text": [
      "Welcome to JupyROOT 6.27/01\n"
     ]
    }
   ],
   "source": [
    "import ROOT\n"
   ]
  },
  {
   "cell_type": "code",
   "execution_count": 5,
   "id": "ea575532-9991-4598-8b2a-775e5e2d94b1",
   "metadata": {},
   "outputs": [],
   "source": [
    "files={A: ROOT.TFile.Open(f\"tweak/GiBUU_{A}_tweak_harut.root\") for A in \"D C Fe Pb\".split()}"
   ]
  },
  {
   "cell_type": "code",
   "execution_count": 6,
   "id": "145e0abc-879d-463f-9131-854eb1b60a74",
   "metadata": {},
   "outputs": [],
   "source": [
    "trees={A: files[A].Get(\"RootTuple\") for A in \"D C Fe Pb\".split()}"
   ]
  },
  {
   "cell_type": "code",
   "execution_count": 7,
   "id": "7918e5e1-8c0b-4741-a495-76658feed068",
   "metadata": {},
   "outputs": [
    {
     "data": {
      "text/plain": [
       "['weight',\n",
       " 'barcode',\n",
       " 'Px',\n",
       " 'Py',\n",
       " 'Pz',\n",
       " 'E',\n",
       " 'x',\n",
       " 'y',\n",
       " 'z',\n",
       " 'evType',\n",
       " 'nu',\n",
       " 'Q2',\n",
       " 'eps',\n",
       " 'phiL']"
      ]
     },
     "execution_count": 7,
     "metadata": {},
     "output_type": "execute_result"
    }
   ],
   "source": [
    "[a.GetName() for a in list(trees['D'].GetListOfBranches())]"
   ]
  },
  {
   "cell_type": "code",
   "execution_count": 14,
   "id": "3a2edc27-51e1-4167-936d-d4641adefe9e",
   "metadata": {},
   "outputs": [
    {
     "name": "stdout",
     "output_type": "stream",
     "text": [
      "0.013884600269481248\n",
      "0.05122116398487797\n",
      "0.0854121018034721\n",
      "0.11430258027433862\n"
     ]
    }
   ],
   "source": [
    "maxevt=1000\n",
    "a={}\n",
    "\n",
    "q=\"Q2>1 && 0.9383**2+2*nu*0.9383-Q2>4 && nu>2.3 && nu<4.2\"\n",
    "for pid in (321,):\n",
    "    for A in \"D C Fe Pb\".split():\n",
    "        a[(A,pid)]=trees[A].GetEntries(f\"barcode=={pid} && sqrt(Px*Px+Py*Py+Pz*Pz+.1396*.1396)/nu>0.5 && {q} && Sum$(barcode==2212 && E>0.35)>0\")/trees[A].GetEntries(f\"barcode==211 && sqrt(Px*Px+Py*Py+Pz*Pz+.1396*.1396)/nu>0.5 && {q} && Sum$(barcode==2212 && E>0.35)>0\")\n",
    "        print(a[(A,pid)])"
   ]
  },
  {
   "cell_type": "code",
   "execution_count": 15,
   "id": "801f303e-81a4-4edf-84c5-8728962f83be",
   "metadata": {},
   "outputs": [
    {
     "name": "stdout",
     "output_type": "stream",
     "text": [
      "C 321 3.6890629179626844\n",
      "Fe 321 6.151570815561062\n",
      "Pb 321 8.23232776283657\n"
     ]
    }
   ],
   "source": [
    "for pid in (321,):\n",
    "    for A in \"C Fe Pb\".split():\n",
    "        print(A, pid, a[(A,pid)]/a[(\"D\",pid)])"
   ]
  },
  {
   "cell_type": "code",
   "execution_count": null,
   "id": "9175d842-bd64-44ba-9363-c9e47a0958e7",
   "metadata": {},
   "outputs": [],
   "source": []
  }
 ],
 "metadata": {
  "kernelspec": {
   "display_name": "Python 3 (ipykernel)",
   "language": "python",
   "name": "python3"
  },
  "language_info": {
   "codemirror_mode": {
    "name": "ipython",
    "version": 3
   },
   "file_extension": ".py",
   "mimetype": "text/x-python",
   "name": "python",
   "nbconvert_exporter": "python",
   "pygments_lexer": "ipython3",
   "version": "3.8.10"
  }
 },
 "nbformat": 4,
 "nbformat_minor": 5
}
