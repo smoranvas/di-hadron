{
 "cells": [
  {
   "cell_type": "code",
   "execution_count": 1,
   "metadata": {},
   "outputs": [
    {
     "name": "stdout",
     "output_type": "stream",
     "text": [
      "Welcome to JupyROOT 6.27/01\n"
     ]
    },
    {
     "data": {
      "application/javascript": [
       "if (!(\"Notification\" in window)) {\n",
       "    alert(\"This browser does not support desktop notifications, so the %%notify magic will not work.\");\n",
       "} else if (Notification.permission !== 'granted' && Notification.permission !== 'denied') {\n",
       "    Notification.requestPermission(function (permission) {\n",
       "        if(!('permission' in Notification)) {\n",
       "            Notification.permission = permission;\n",
       "        }\n",
       "    })\n",
       "}\n"
      ],
      "text/plain": [
       "<IPython.core.display.Javascript object>"
      ]
     },
     "metadata": {},
     "output_type": "display_data"
    }
   ],
   "source": [
    "import ROOT\n",
    "from ROOT import TFile\n",
    "import numpy as np\n",
    "import matplotlib as mpl\n",
    "import matplotlib.pyplot as plt\n",
    "import copy\n",
    "import pandas as pd \n",
    "import time\n",
    "from os import listdir\n",
    "import uproot\n",
    "import root_pandas\n",
    "%load_ext jupyternotify"
   ]
  },
  {
   "cell_type": "code",
   "execution_count": 2,
   "metadata": {},
   "outputs": [],
   "source": [
    "class particle:\n",
    "    def __init__(self, pid, fourvector, virtual_photon,ThetaPQ ):## '__init__' is the constructor of the class\n",
    "        self.virtual_photon = virtual_photon\n",
    "        Nu = virtual_photon.E()   ##components of a 4-vector TLorentzVector\n",
    "        Q2 = -virtual_photon.M2() ## magnitud squared of a 4-vector TLorentzVector\n",
    "        self.proton = ROOT.TLorentzVector()  ## proton is an attribute of the class 'particle' just created.\n",
    "        self.proton.SetPxPyPzE(0,0,0, 0.938)  ## SetPxPyPzE is just a function of ROOT\n",
    "        self.W = (virtual_photon + self.proton).M() ##.M() return the magnitud of a TLorentzVector [W2=(p+q)2]\n",
    "        incoming_e = ROOT.TLorentzVector()\n",
    "        incoming_e.SetPxPyPzE(0,0,5.014,5.014)\n",
    "        part1 = virtual_photon.Vect().Cross(incoming_e.Vect()).Unit()\n",
    "        part2 = virtual_photon.Vect().Cross(fourvector.Vect()).Unit()\n",
    "        sign  = np.sign(part1.Dot(fourvector.Vect())) ## sign returns -1 0 or 1 if the input is negative, zero or positive.\n",
    "        self.PhiPQ = sign*np.arccos(part1.Dot(part2))\n",
    "        photon_pz = np.sqrt(Nu*Nu+Q2) #direction is positive by definition, virtual photon\n",
    "        self.bcm = photon_pz/(Nu + 0.938)#photon-nucleon center-of-mass velocity \n",
    "        self.ycm = 0.5*np.log(( 1+self.bcm)/(1-self.bcm)) #photon-nucleon center-of-mass rapidity\n",
    "        self.LorentzVector = fourvector #hadron four-vector. 4-vector is an input of this class\n",
    "        self.PhiLab = self.LorentzVector.Phi()\n",
    "        self.ThetaLab = self.LorentzVector.Theta()\n",
    "        self.E = self.LorentzVector.E() #energy in lab frame\n",
    "        self.vector = self.LorentzVector.Vect()\n",
    "        self.Pt = self.vector.Perp(virtual_photon.Vect().Unit()) #pT with respect to photon direction\n",
    "        self.Pl  = self.vector.Dot(virtual_photon.Vect().Unit()) #pL with respect to photon direction (in lab frame)\n",
    "        self.y =  0.5*np.log( (self.E+self.Pl)/(self.E-self.Pl)) #rapidity in lab frame\n",
    "        self.mT = np.sqrt(self.LorentzVector.M2() + self.Pt*self.Pt)\n",
    "        self.y_star = self.y - self.ycm\n",
    "        self.Pl_star = self.mT*np.sinh(self.y_star) # y is rapidity\n",
    "        self.Xf = 2.0*self.Pl_star/self.W \n",
    "        self.pid = pid\n",
    "        self.Zh = self.E/Nu\n",
    "        self.ThetaPQ = np.arctan2(self.Pt,self.Pl)\n",
    "        self.P = np.sqrt(self.LorentzVector.Px()**2+self.LorentzVector.Py()**2+self.LorentzVector.Pz()**2)\n",
    "      \n",
    "    def redefine(self, new_virtual_photon):\n",
    "        incoming_e = ROOT.TLorentzVector()\n",
    "        incoming_e.SetPxPyPzE(0,0,5.014,5.014)\n",
    "        part1 = new_virtual_photon.Vect().Cross(incoming_e.Vect()).Unit()\n",
    "        part2 = new_virtual_photon.Vect().Cross(self.LorentzVector.Vect()).Unit()\n",
    "        sign  = np.sign(part1.Dot(self.LorentzVector.Vect()))\n",
    "        self.PhiPQ = sign*np.arccos(part1.Dot(part2)) \n",
    "        self.Pt = self.LorentzVector.Vect().Perp(new_virtual_photon.Vect().Unit()) #pT with respect to photon direction\n",
    "        self.Pl  = self.LorentzVector.Vect().Dot(new_virtual_photon.Vect().Unit()) #pL with respect to photon direction (in lab frame)\n",
    "        self.y =  0.5*np.log( (self.E+self.Pl)/(self.E-self.Pl)) #rapidity in lab frame\n",
    "        self.ThetaPQ = np.arctan(self.Pt/self.Pl)\n",
    "        self.virtual_photon = new_virtual_photon\n",
    "        \n",
    "        return\n",
    "        \n",
    "    def print_properties(self):\n",
    "        print ('Hello, let me introduce myself, i am particle pid = ' , self.pid, ' with index ', self.index, ', from event  #', self.ievt, ' Nu and W', self.Nu, ' ' , self.W)\n",
    "        print ('zh = ', self.Zh, ' phi_pq= ', self.PhiPQ, ' theta_pq=' , self.ThetaPQ, 'E = ', self.E, ' xf', self.Xf,'Pt ', self.Pt, ' Pl= ', self.Pl, ' rapidity=' ,  self.y)\n",
    "        print ('pid = ' , self.pid)       \n",
    "        \n",
    "    "
   ]
  },
  {
   "cell_type": "code",
   "execution_count": 3,
   "metadata": {
    "code_folding": []
   },
   "outputs": [],
   "source": [
    "def getDataframes(filename, Target=1,maxevents=1e9,tree_name='ntuple_data',isMC=False,\n",
    "                  keepH1FailRecon=False,keepH2FailRecon=False, h2CutsTruth=False,\n",
    "                 keepEFailRecon=False, makeTriggerTuple=True,includeRunNumber=False):\n",
    "    dphi = np.array([])  \n",
    "    include_truth=isMC\n",
    "    ParticlesFromPrevious = []\n",
    "    \n",
    "    try:\n",
    "        myfile = TFile.Open('%s'%filename,'READ')\n",
    "        myfile.Print()\n",
    "    except:\n",
    "        print(\"could not open file\")\n",
    "    mytree = myfile.Get(tree_name)\n",
    "        \n",
    "    print (filename, ' has ', mytree.GetEntries(), ' entries')\n",
    "    \n",
    "    \n",
    "    ## here we create another dictionary\n",
    "    \n",
    "    tupla_trigger = {}\n",
    "    tupla_secondary = {}\n",
    "    for tupla in tupla_trigger, tupla_secondary:\n",
    "        tupla['h_pid'] = []\n",
    "        tupla['h_xf'] = []\n",
    "        tupla['h_z']  = []\n",
    "        tupla['h_cm_pt'] = []\n",
    "        tupla['h_rap']  = []\n",
    "        tupla['ycm'] = []\n",
    "        tupla['Q2'] = []\n",
    "        tupla['x'] = []\n",
    "        tupla['nu'] = []\n",
    "        tupla['W'] = []\n",
    "        tupla['e_px'] = [] \n",
    "        tupla['e_py'] = []\n",
    "        tupla['e_pz']  = []\n",
    "        tupla['e_p'] = [] \n",
    "        tupla['e_ph'] = []\n",
    "        tupla['e_th']  = []    \n",
    "        tupla['SampFracEl25'] = []\n",
    "        tupla['SampFracEl20'] = []\n",
    "        tupla['TargTypeSM'] = [] ## RD's vertex cuts\n",
    "        tupla['TargType'] = []   ## Taisiya's vertex cuts (nominal)\n",
    "        tupla['h_cm_ph'] = []\n",
    "        tupla['h_cm_th'] = []\n",
    "        tupla['TargType'] = []\n",
    "        tupla['h_p'] = []\n",
    "        tupla['h_ph'] = []\n",
    "        tupla['h_th'] = []\n",
    "        tupla['h_deltaZ'] = []\n",
    "        tupla['h_Nphe'] = []\n",
    "        tupla['h_Sector'] = []\n",
    "        tupla['h_FidCut'] = []\n",
    "        tupla['h_FidCutPiPlus'] = []\n",
    "        tupla['h_Chi2CC'] = []\n",
    "        tupla['h_StatCC'] = []\n",
    "        tupla['h_T4'] = []\n",
    "        tupla['evnt'] = []\n",
    "    \n",
    "    if include_truth:\n",
    "        mytree.mc_W = 0.938**2+mytree.mc_Nu*0.938*2-mytree.mc_Q2\n",
    "        \n",
    "    \n",
    "    start = time.time()\n",
    "    print('About to loop over ', mytree.GetEntries() , ' entries')\n",
    "    for ievt  in range(mytree.GetEntries()):\n",
    "        \n",
    "        #print('evnt: ',ievt, 'len ParticlesFromPrevious ', (len(ParticlesFromPrevious)))\n",
    "        \n",
    "        #for kkk  in range (len(ParticlesFromPrevious)):\n",
    "        #    print('evnt',ievt, 'ParticlesFromPrevious, pid:', ParticlesFromPrevious[kkk].pid, 'zh: ', \n",
    "                   #ParticlesFromPrevious[kkk].Zh, 'W: ',ParticlesFromPrevious[kkk].W )\n",
    "        #if len(mytree.FidCheckCut) != len(mytree.Sector):\n",
    "        #    print('This shouldn\\'t ever happen: len(mytree.FidCheckCut) != len(mytree.Sector). Skipping event')\n",
    "        #    continue\n",
    "            \n",
    "        mytree.GetEntry(ievt)   \n",
    "        if (mytree.W<2.05 or mytree.Q2<1.0) and not keepEFailRecon : continue\n",
    "            \n",
    "        if keepEFailRecon and (mytree.mc_Q2<1.0 and mytree.Q2<1.0 or \\\n",
    "                               mytree.W<2.05 and .9383**2+2*.9383*mytree.mc_Nu-mytree.mc_Q2<2.05 or\\\n",
    "                               mytree.mc_Nu>4.2):\n",
    "            continue\n",
    "        #if mytree.Q2<1 :\n",
    "        #    print(mytree.Q2, mytree.mc_Q2)\n",
    "        \n",
    "        # by default we apply the loose vertex cuts (Hayk's) The other cases remains as variables\n",
    "        if ievt>maxevents: break        \n",
    "        if(mytree.TargTypeHH==1) :\n",
    "            TargType=1\n",
    "        elif(mytree.TargTypeHH==2):\n",
    "            TargType=2\n",
    "        else:\n",
    "            TargType=0\n",
    "        #print (TargType,  ' ' , Target)\n",
    "        if not(isMC) and (TargType!=Target): continue ## 'Target' is a argument of this function\n",
    "                \n",
    "        #print('PASO all cuts')\n",
    "        W = mytree.W\n",
    "        Nu = mytree.Nu\n",
    "        #get electron momentum:\n",
    "        Pe = np.sqrt(mytree.Pex*mytree.Pex + mytree.Pey*mytree.Pey+ mytree.Pez*mytree.Pez)\n",
    "        scattered_e = ROOT.TLorentzVector()\n",
    "        scattered_e.SetPxPyPzE(mytree.Pex, mytree.Pey, mytree.Pez, Pe)\n",
    "        incoming_e = ROOT.TLorentzVector()\n",
    "        incoming_e.SetPxPyPzE(0,0,5.014,5.014)\n",
    "        virtual_photon  = incoming_e - scattered_e \n",
    "        virtual_photon_unitvector = virtual_photon.Vect().Unit()\n",
    "        proton = ROOT.TLorentzVector()\n",
    "        proton.SetPxPyPzE(0,0,0, 0.938)\n",
    "        \n",
    "        \n",
    "        if include_truth:\n",
    "            Nu_truth = mytree.mc_Nu\n",
    "            Pe_truth = np.sqrt(mytree.mc_Pex*mytree.mc_Pex + mytree.mc_Pey*mytree.mc_Pey+ mytree.mc_Pez*mytree.mc_Pez)\n",
    "            scattered_e_truth = ROOT.TLorentzVector()\n",
    "            scattered_e_truth.SetPxPyPzE(mytree.mc_Pex, mytree.mc_Pey, mytree.mc_Pez, Pe_truth)\n",
    "            virtual_photon_truth  = incoming_e - scattered_e_truth \n",
    "            virtual_photon_unitvector_truth = virtual_photon_truth.Vect().Unit()\n",
    "        run=0\n",
    "        if not isMC:\n",
    "            if includeRunNumber:\n",
    "                run = mytree.run\n",
    "            else : run = -1\n",
    "        ## for each event the particles are saved in the 'particles' list.        \n",
    "        particles = []  ## this is how you define a list in python, this is created for each event\n",
    "        #print (' Entering main loop over particles')\n",
    "        for i in range(len(mytree.pid)):\n",
    "            #print(mytree.pid[i])\n",
    "            ## when the condition is true the 'continue' statement\n",
    "            ## takes me to the next iteration of the loop\n",
    "            \n",
    "            if not keepH1FailRecon:\n",
    "            \n",
    "                if (abs(mytree.pid[i]) !=211 and mytree.pid[i]!=2212): continue \n",
    "\n",
    "                ## aplying the rest of cuts:\n",
    "                if ( mytree.P[i]<0.2 or mytree.ThetaLab[i]<10 or mytree.ThetaLab[i]>120 ):    continue\n",
    "                if ( mytree.pid[i]!=211) : continue #only leading pi+ in this analysis\n",
    "                if ( mytree.pid[i]==211  and mytree.P[i]>=3.0 and \n",
    "                    (mytree.Nphe[i]<10 or mytree.Chi2CC[i]>0.0872 \n",
    "                     or mytree.StatCC[i]<=0 or mytree.NRowsCC[i]==0) ):    continue     \n",
    "            else:\n",
    "                if mytree.mc_pid[i] !=211 and mytree.pid[i] !=211: continue \n",
    "\n",
    "            #print(mytree.pid[i])\n",
    "            i_lv = ROOT.TLorentzVector()    ## 4-vector of the hadron\n",
    "            i_lv.SetPxPyPzE(mytree.Px[i],mytree.Py[i],mytree.Pz[i],mytree.Zh[i]*Nu) \n",
    "            ## this is the 4-vector of the hadron\n",
    "            i_part = particle(mytree.pid[i], i_lv, virtual_photon, mytree.ThetaPQ[i] ) \n",
    "            \n",
    "            if include_truth:\n",
    "                i_lv_truth = ROOT.TLorentzVector()    ## 4-vector of the hadron\n",
    "                i_lv_truth.SetPxPyPzE(mytree.mc_Px[i],mytree.mc_Py[i],mytree.mc_Pz[i],mytree.mc_Zh[i]*Nu_truth) ## this is the 4-vector of the hadron\n",
    "                i_part_truth = particle(mytree.mc_pid[i], i_lv_truth, virtual_photon_truth, mytree.mc_ThetaPQ[i] ) ## particle is the class defined previously\n",
    "             \n",
    "            \n",
    "            \n",
    "            ## particle is the class defined previously\n",
    "            ## in this 'particles' list there are NO cuts applied (except the pid and obvious ones)\n",
    "            particles.append(i_part)   ## save that particle in the 'particles' list\n",
    "            X = (virtual_photon + proton -  i_part.LorentzVector) #unobserved hadronic system\n",
    "            #print('event:',ievt,'particle i:', i,' with PID:',  i_part.pid, 'and Zh:',\n",
    "            #       i_part.Zh, ', W: ',i_part.W)\n",
    "            e_p = np.sqrt(mytree.Pex**2+mytree.Pey**2+mytree.Pez**2)\n",
    "            e_ph = np.arctan2(mytree.Pey,mytree.Pex)\n",
    "            e_th = np.arctan2(np.sqrt(mytree.Pex**2+mytree.Pey**2),mytree.Pez)\n",
    "            if i_part.Zh > 0.5 and i_part.pid ==211: #only save triggers and do correlations if they have z>0.5\n",
    "            #if i_part.Pt>1.0: #only save triggers if pT>1.0 \n",
    "            ## HERE WE SAVE THE VARIABLES FOR THE TRIGGER PARTICLE (THE ONE WITH Zh>0.5)\n",
    "               \n",
    "                tupla_trigger['h_pid'].append(i_part.pid)\n",
    "                \n",
    "                tupla_trigger['h_xf'].append(i_part.Xf)\n",
    "                tupla_trigger['h_z'].append(i_part.Zh)\n",
    "                tupla_trigger['h_cm_pt'].append(i_part.Pt)\n",
    "                tupla_trigger['h_rap'].append(i_part.y_star)\n",
    "                tupla_trigger['ycm'].append(i_part.ycm)\n",
    "                tupla_trigger['h_cm_ph'].append(i_part.PhiPQ)\n",
    "                tupla_trigger['h_cm_th'].append(i_part.ThetaPQ)\n",
    "                tupla_trigger['Q2'].append(mytree.Q2)\n",
    "                tupla_trigger['x'].append(mytree.Xb)\n",
    "                tupla_trigger['nu'].append(mytree.Nu)\n",
    "                tupla_trigger['W'].append(mytree.W)\n",
    "                tupla_trigger['e_px'].append(mytree.Pex)\n",
    "                tupla_trigger['e_py'].append(mytree.Pey)\n",
    "                tupla_trigger['e_pz'].append(mytree.Pez)\n",
    "                tupla_trigger['e_p'].append(e_p)\n",
    "                tupla_trigger['e_ph'].append(e_ph)\n",
    "                tupla_trigger['e_th'].append(e_th)\n",
    "                tupla_trigger['h_T4'].append(mytree.T4[i])\n",
    "                tupla_trigger['SampFracEl25'].append(mytree.SampFractionEl25)\n",
    "                tupla_trigger['SampFracEl20'].append(mytree.SampFractionEl20)\n",
    "                tupla_trigger['TargTypeSM'].append(mytree.TargTypeSM)  ## RD's vertex cuts\n",
    "                tupla_trigger['TargType'].append(mytree.TargType)    ## Taisiya's vertex cuts (nominal)\n",
    "                tupla_trigger['h_p'].append(mytree.P[i])\n",
    "                tupla_trigger['h_ph'].append(mytree.PhiLab[i])\n",
    "                tupla_trigger['h_th'].append(mytree.ThetaLab[i])#i_part.LorentzVector.Theta())\n",
    "                #print 'mytree.Pt[i] ' , mytree.Pt[i], ' check: ' ,i_part.Vector.Perp(virtual_photon_unitvector)\n",
    "\n",
    "                #print('Testing theta PQ', mytree.ThetaPQ[i],  ' '  , 180.0*i_part.ThetaPQ/np.pi)\n",
    "                #print('Testing phi PQ', mytree.PhiPQ[i],  ' '  , 180.0*i_part.PhiPQ/np.pi),Nphe,deltaZ\n",
    "                tupla_trigger['h_deltaZ'].append(mytree.deltaZ[i])\n",
    "                tupla_trigger['h_Nphe'].append(mytree.Nphe[i])\n",
    "                tupla_trigger['h_Sector'].append(mytree.Sector[i])\n",
    "                tupla_trigger['h_FidCut'].append(mytree.FidCheckCut[i])\n",
    "                tupla_trigger['h_FidCutPiPlus'].append(mytree.FidCheckCutPiPlus[i])\n",
    "                tupla_trigger['h_Chi2CC'].append(mytree.Chi2CC[i])\n",
    "                tupla_trigger['h_StatCC'].append(mytree.StatCC[i])\n",
    "                tupla_trigger['evnt'].append(mytree.evnt)\n",
    "                \n",
    "            for j in range(len(mytree.pid)): \n",
    "                pass_recon=True\n",
    "                if mytree.pid[j]!=2212: pass_recon=False\n",
    "                #print('evnt', ievt,' j:', j, ' , lenpid:',len(mytree.pid) )\n",
    "                ## aplying the rest of cuts:\n",
    "                if ( mytree.P[j]<0.35 or mytree.ThetaLab[j]<10 or mytree.ThetaLab[j]>120 or mytree.pid[j] != 2212 or mytree.P[j]>3.0):    pass_recon=False\n",
    "                if not pass_recon:\n",
    "                   continue\n",
    "                \n",
    "                j_lv = ROOT.TLorentzVector()    \n",
    "                j_lv.SetPxPyPzE(mytree.Px[j],mytree.Py[j],mytree.Pz[j],mytree.Zh[j]*Nu)\n",
    "                j_part = particle(mytree.pid[j], j_lv, virtual_photon, mytree.ThetaPQ[j] )\n",
    "                ## particle is the defined class\n",
    "                \n",
    "                \n",
    "                tupla_secondary['h_z'].append(j_part.Zh)\n",
    "                tupla_secondary['h_cm_pt'].append(j_part.Pt)\n",
    "                tupla_secondary['h_xf'].append(j_part.Xf)\n",
    "                tupla_secondary['h_rap'].append(j_part.y_star)\n",
    "                tupla_secondary['h_pid'].append(j_part.pid)\n",
    "                tupla_secondary['h_cm_ph'].append(j_part.PhiPQ)\n",
    "                tupla_secondary['h_cm_th'].append(j_part.ThetaPQ)\n",
    "                tupla_secondary['Q2'].append(mytree.Q2)\n",
    "                tupla_secondary['x'].append(mytree.Xb)\n",
    "                tupla_secondary['nu'].append(mytree.Nu)\n",
    "                tupla_secondary['W'].append(mytree.W)\n",
    "                tupla_secondary['SampFracEl25'].append(mytree.SampFractionEl25)\n",
    "                tupla_secondary['SampFracEl20'].append(mytree.SampFractionEl20)\n",
    "                tupla_secondary['TargTypeSM'].append(mytree.TargTypeSM)  ## RD's vertex cuts\n",
    "                tupla_secondary['TargType'].append(mytree.TargType)    ## Taisiya's vertex cuts (nominal)\n",
    "                tupla_secondary['h_ph'].append(mytree.PhiLab[j])\n",
    "                tupla_secondary['h_th'].append(mytree.ThetaLab[j])\n",
    "                tupla_secondary['h_p'].append(mytree.P[j])\n",
    "                tupla_secondary['h_deltaZ'].append(mytree.deltaZ[j])\n",
    "                tupla_secondary['ycm'].append(i_part.ycm)\n",
    "\n",
    "                tupla_secondary['h_Nphe'].append(mytree.Nphe[j])\n",
    "                tupla_secondary['h_Sector'].append(mytree.Sector[j])\n",
    "                tupla_secondary['h_FidCut'].append(mytree.FidCheckCut[j]) \n",
    "                tupla_secondary['h_FidCutPiPlus'].append(mytree.FidCheckCutPiPlus[j])                    \n",
    "                tupla_secondary['h_Chi2CC'].append(mytree.Chi2CC[j])\n",
    "                tupla_secondary['h_StatCC'].append(mytree.StatCC[j])\n",
    "                tupla_secondary['h_T4'].append(mytree.T4[j])\n",
    "                tupla_secondary['evnt'].append(mytree.evnt)\n",
    "                \n",
    "                tupla_secondary['e_px'].append(mytree.Pex)\n",
    "                tupla_secondary['e_py'].append(mytree.Pey)\n",
    "                tupla_secondary['e_pz'].append(mytree.Pez)\n",
    "                tupla_secondary['e_p'].append(e_p)\n",
    "                tupla_secondary['e_ph'].append(e_ph)\n",
    "                tupla_secondary['e_th'].append(e_th)\n",
    "                \n",
    "    print(\"secondary\")                \n",
    "    for f in tupla_secondary:\n",
    "        print(f, len(tupla_secondary[f]))\n",
    "    print(\"trigger\")                \n",
    "    for f in tupla_trigger:\n",
    "        print(f, len(tupla_trigger[f]))     \n",
    "        #print ' going for next event'    \n",
    "        #print ' particles in event', len(particles\n",
    "        ##end loop over events correlations    \n",
    "    end = time.time()\n",
    "    print ('Processed in',  end-start, 'seconds')\n",
    "    ##printing the 3 tuples to the output file\n",
    "    df_trigger = pd.DataFrame(tupla_trigger)\n",
    "    df_secondary= pd.DataFrame(tupla_secondary)\n",
    "    #print ('Number of triggers with z>0.5,  ', df.query('h1_z>0.5').shape[0])\n",
    "    #print ('Number of pairs with z>0.5, '    , df_trigger.query('h1_z>0.5').shape[0]) \n",
    "    myfile.Close()\n",
    "    return df_trigger, df_trigger\n",
    "        "
   ]
  },
  {
   "cell_type": "code",
   "execution_count": 4,
   "metadata": {},
   "outputs": [],
   "source": [
    "## here we defined some dictionaries ({})\n",
    "df = {}"
   ]
  },
  {
   "cell_type": "markdown",
   "metadata": {},
   "source": [
    "# Data files"
   ]
  },
  {
   "cell_type": "code",
   "execution_count": 5,
   "metadata": {},
   "outputs": [
    {
     "name": "stdout",
     "output_type": "stream",
     "text": [
      "CPU times: user 2 µs, sys: 3 µs, total: 5 µs\n",
      "Wall time: 9.06 µs\n",
      "done with:  0  files\n",
      "/home/sebouh/di-hadron/low_energy_protons/C_data_hadd.root  has  29006299  entries\n",
      "About to loop over  29006299  entries\n",
      "secondary\n",
      "h_pid 255\n",
      "h_xf 255\n",
      "h_z 255\n",
      "h_cm_pt 255\n",
      "h_rap 255\n",
      "ycm 255\n",
      "Q2 255\n",
      "x 255\n",
      "nu 255\n",
      "W 255\n",
      "e_px 255\n",
      "e_py 255\n",
      "e_pz 255\n",
      "e_p 255\n",
      "e_ph 255\n",
      "e_th 255\n",
      "SampFracEl25 255\n",
      "SampFracEl20 255\n",
      "TargTypeSM 255\n",
      "TargType 255\n",
      "h_cm_ph 255\n",
      "h_cm_th 255\n",
      "h_p 255\n",
      "h_ph 255\n",
      "h_th 255\n",
      "h_deltaZ 255\n",
      "h_Nphe 255\n",
      "h_Sector 255\n",
      "h_FidCut 255\n",
      "h_FidCutPiPlus 255\n",
      "h_Chi2CC 255\n",
      "h_StatCC 255\n",
      "h_T4 255\n",
      "evnt 255\n",
      "trigger\n",
      "h_pid 70\n",
      "h_xf 70\n",
      "h_z 70\n",
      "h_cm_pt 70\n",
      "h_rap 70\n",
      "ycm 70\n",
      "Q2 70\n",
      "x 70\n",
      "nu 70\n",
      "W 70\n",
      "e_px 70\n",
      "e_py 70\n",
      "e_pz 70\n",
      "e_p 70\n",
      "e_ph 70\n",
      "e_th 70\n",
      "SampFracEl25 70\n",
      "SampFracEl20 70\n",
      "TargTypeSM 70\n",
      "TargType 70\n",
      "h_cm_ph 70\n",
      "h_cm_th 70\n",
      "h_p 70\n",
      "h_ph 70\n",
      "h_th 70\n",
      "h_deltaZ 70\n",
      "h_Nphe 70\n",
      "h_Sector 70\n",
      "h_FidCut 70\n",
      "h_FidCutPiPlus 70\n",
      "h_Chi2CC 70\n",
      "h_StatCC 70\n",
      "h_T4 70\n",
      "evnt 70\n",
      "Processed in 0.46916699409484863 seconds\n",
      "/home/sebouh/di-hadron/low_energy_protons/C_data_hadd.root  has  29006299  entries\n",
      "About to loop over  29006299  entries\n",
      "secondary\n",
      "h_pid 191\n",
      "h_xf 191\n",
      "h_z 191\n",
      "h_cm_pt 191\n",
      "h_rap 191\n",
      "ycm 191\n",
      "Q2 191\n",
      "x 191\n",
      "nu 191\n",
      "W 191\n",
      "e_px 191\n",
      "e_py 191\n",
      "e_pz 191\n",
      "e_p 191\n",
      "e_ph 191\n",
      "e_th 191\n",
      "SampFracEl25 191\n",
      "SampFracEl20 191\n",
      "TargTypeSM 191\n",
      "TargType 191\n",
      "h_cm_ph 191\n",
      "h_cm_th 191\n",
      "h_p 191\n",
      "h_ph 191\n",
      "h_th 191\n",
      "h_deltaZ 191\n",
      "h_Nphe 191\n",
      "h_Sector 191\n",
      "h_FidCut 191\n",
      "h_FidCutPiPlus 191\n",
      "h_Chi2CC 191\n",
      "h_StatCC 191\n",
      "h_T4 191\n",
      "evnt 191\n",
      "trigger\n",
      "h_pid 97\n",
      "h_xf 97\n",
      "h_z 97\n",
      "h_cm_pt 97\n",
      "h_rap 97\n",
      "ycm 97\n",
      "Q2 97\n",
      "x 97\n",
      "nu 97\n",
      "W 97\n",
      "e_px 97\n",
      "e_py 97\n",
      "e_pz 97\n",
      "e_p 97\n",
      "e_ph 97\n",
      "e_th 97\n",
      "SampFracEl25 97\n",
      "SampFracEl20 97\n",
      "TargTypeSM 97\n",
      "TargType 97\n",
      "h_cm_ph 97\n",
      "h_cm_th 97\n",
      "h_p 97\n",
      "h_ph 97\n",
      "h_th 97\n",
      "h_deltaZ 97\n",
      "h_Nphe 97\n",
      "h_Sector 97\n",
      "h_FidCut 97\n",
      "h_FidCutPiPlus 97\n",
      "h_Chi2CC 97\n",
      "h_StatCC 97\n",
      "h_T4 97\n",
      "evnt 97\n",
      "Processed in 0.380232572555542 seconds\n",
      "TFile: name=/home/sebouh/di-hadron/low_energy_protons/C_data_hadd.root, title=, option=READ\n",
      "TFile: name=/home/sebouh/di-hadron/low_energy_protons/C_data_hadd.root, title=, option=READ\n"
     ]
    },
    {
     "data": {
      "application/javascript": [
       "$(document).ready(\n",
       "    function() {\n",
       "        function appendUniqueDiv(){\n",
       "            // append a div with our uuid so we can check that it's already\n",
       "            // been sent and avoid duplicates on page reload\n",
       "            var notifiedDiv = document.createElement(\"div\")\n",
       "            notifiedDiv.id = \"d9758773-10eb-4293-a58f-ac66454c04bb\"\n",
       "            element.append(notifiedDiv)\n",
       "        }\n",
       "\n",
       "        // only send notifications if the pageload is complete; this will\n",
       "        // help stop extra notifications when a saved notebook is loaded,\n",
       "        // which during testing gives us state \"interactive\", not \"complete\"\n",
       "        if (document.readyState === 'complete') {\n",
       "            // check for the div that signifies that the notification\n",
       "            // was already sent\n",
       "            if (document.getElementById(\"d9758773-10eb-4293-a58f-ac66454c04bb\") === null) {\n",
       "                var notificationPayload = {\"requireInteraction\": false, \"icon\": \"/static/base/images/favicon.ico\", \"body\": \"Cell execution has finished!\"};\n",
       "                if (Notification.permission !== 'denied') {\n",
       "                    if (Notification.permission !== 'granted') { \n",
       "                        Notification.requestPermission(function (permission) {\n",
       "                            if(!('permission' in Notification)) {\n",
       "                                Notification.permission = permission\n",
       "                            }\n",
       "                        })\n",
       "                    }\n",
       "                    if (Notification.permission === 'granted') {\n",
       "                    var notification = new Notification(\"Jupyter Notebook\", notificationPayload)\n",
       "                    appendUniqueDiv()\n",
       "                    notification.onclick = function () {\n",
       "                        window.focus();\n",
       "                        this.close();\n",
       "                        };\n",
       "                    } \n",
       "                }     \n",
       "            }\n",
       "        }\n",
       "    }\n",
       ")\n"
      ],
      "text/plain": [
       "<IPython.core.display.Javascript object>"
      ]
     },
     "metadata": {},
     "output_type": "display_data"
    },
    {
     "name": "stdout",
     "output_type": "stream",
     "text": [
      "TFile: name=/home/sebouh/di-hadron/low_energy_protons/C_data_hadd.root, title=, option=READ\n",
      "TFile: name=/home/sebouh/di-hadron/low_energy_protons/C_data_hadd.root, title=, option=READ\n"
     ]
    }
   ],
   "source": [
    "%%notify\n",
    "%time\n",
    "\n",
    "\n",
    "df['C_secondary'], df['C_trigger'] = [None,None]\n",
    "df['D_C_secondary'], df['D_C_trigger'] = [None,None]\n",
    "#path = '/home/sebouh/di-hadron/data/P27/ca/'\n",
    "path = '/home/sebouh/di-hadron/low_energy_protons/'\n",
    "#path='/home/seba/'\n",
    "tar='C'\n",
    "import glob\n",
    "Files = glob.glob(path+f\"{tar}*.root\") \n",
    "count=0\n",
    "for name in Files:\n",
    "    filename = name\n",
    "    print ('done with: ', count, ' files')\n",
    "    count=count+1\n",
    "    if( '.root' not in name): continue \n",
    "    trigger, secondary = getDataframes(filename,Target=2, maxevents=10000) ## getDataframes is a function just created\n",
    "    df[tar+\"_secondary\"] = pd.concat([ df[tar+\"_secondary\"], secondary])\n",
    "    df[tar+\"_trigger\"] = pd.concat([ df[tar+\"_trigger\"], trigger])\n",
    "    trigger, secondary =  getDataframes(filename,Target=1,maxevents=10000) ## getDataframes is a function just created\n",
    "    df[\"D_\"+tar+\"_secondary\"] = pd.concat([ df[\"D_\"+tar+\"_secondary\"], secondary])\n",
    "    df[\"D_\"+tar+\"_trigger\"] = pd.concat([ df[\"D_\"+tar+\"_trigger\"], trigger])\n",
    "    \n"
   ]
  },
  {
   "cell_type": "code",
   "execution_count": null,
   "metadata": {},
   "outputs": [],
   "source": [
    "#create a mixed tuple\n",
    "\n"
   ]
  },
  {
   "cell_type": "code",
   "execution_count": 30,
   "metadata": {},
   "outputs": [
    {
     "name": "stdout",
     "output_type": "stream",
     "text": [
      "end\n"
     ]
    }
   ],
   "source": [
    "\n",
    "import pickle\n",
    "with open(f\"data_pion_proton_pairs_{tar}.pkl\", \"wb\") as f:\n",
    "    pickle.dump({a:df[a] for a in f\"{tar} D_{tar} {tar}_trigger D_{tar}_trigger {tar}_mix D_{tar}_mix\".split()}, f, pickle.HIGHEST_PROTOCOL)\n",
    "print('end')"
   ]
  },
  {
   "cell_type": "code",
   "execution_count": 31,
   "metadata": {},
   "outputs": [
    {
     "name": "stdout",
     "output_type": "stream",
     "text": [
      "done with:  0  files\n",
      "/home/sebouh/di-hadron/low_energy_protons/Fe_data_hadd.root  has  46201904  entries\n",
      "About to loop over  46201904  entries\n"
     ]
    },
    {
     "name": "stderr",
     "output_type": "stream",
     "text": [
      "/tmp/ipykernel_1781987/1454151576.py:17: RuntimeWarning: invalid value encountered in log\n",
      "  self.ycm = 0.5*np.log(( 1+self.bcm)/(1-self.bcm)) #photon-nucleon center-of-mass rapidity\n"
     ]
    },
    {
     "name": "stdout",
     "output_type": "stream",
     "text": [
      "Processed in 1539.5320014953613 seconds\n",
      "Number of triggers with z>0.5,   70123\n",
      "Number of pairs with z>0.5,  263034\n",
      "/home/sebouh/di-hadron/low_energy_protons/Fe_data_hadd.root  has  46201904  entries\n",
      "About to loop over  46201904  entries\n"
     ]
    },
    {
     "name": "stderr",
     "output_type": "stream",
     "text": [
      "/tmp/ipykernel_1781987/1454151576.py:17: RuntimeWarning: invalid value encountered in log\n",
      "  self.ycm = 0.5*np.log(( 1+self.bcm)/(1-self.bcm)) #photon-nucleon center-of-mass rapidity\n"
     ]
    },
    {
     "name": "stdout",
     "output_type": "stream",
     "text": [
      "Processed in 1601.391226530075 seconds\n",
      "Number of triggers with z>0.5,   57538\n",
      "Number of pairs with z>0.5,  469645\n",
      "end\n",
      "end\n",
      "TFile: name=/home/sebouh/di-hadron/low_energy_protons/Fe_data_hadd.root, title=, option=READ\n",
      "TFile: name=/home/sebouh/di-hadron/low_energy_protons/Fe_data_hadd.root, title=, option=READ\n"
     ]
    }
   ],
   "source": [
    "#path = '/home/sebouh/di-hadron/data/P27/fe/'\n",
    "path = '/home/sebouh/di-hadron/low_energy_protons/'\n",
    "#path='/home/seba/'\n",
    "tar='Fe'\n",
    "import glob\n",
    "Files = glob.glob(path+f\"{tar}*.root\") \n",
    "count=0\n",
    "for name in Files:\n",
    "    filename = name\n",
    "    print ('done with: ', count, ' files')\n",
    "    count=count+1\n",
    "    if( '.root' not in name): continue \n",
    "    pairs, pairs_mix, trigger = getDataframes(filename,Target=2) ## getDataframes is a function just created\n",
    "    df[tar] = pd.concat([ df[tar], pairs])\n",
    "    df['%s_mix'%tar] = pd.concat([ df['%s_mix'%tar], pairs_mix])\n",
    "    df['%s_trigger'%tar] = pd.concat([ df['%s_trigger'%tar], trigger])\n",
    "    pairs, pairs_mix, trigger = getDataframes(filename,Target=1) ## getDataframes is a function just created\n",
    "    df['D_%s'%tar] = pd.concat([ df['D_%s'%tar], pairs])\n",
    "    df['D_%s_mix'%tar] = pd.concat([ df['D_%s_mix'%tar], pairs_mix])\n",
    "    df['D_%s_trigger'%tar] = pd.concat([ df['D_%s_trigger'%tar], trigger])\n",
    "tar = \"Fe\"\n",
    "import pickle\n",
    "with open(f\"data_pion_proton_pairs_{tar}.pkl\", \"wb\") as f:\n",
    "    pickle.dump({a:df[a] for a in f\"{tar} D_{tar} {tar}_trigger D_{tar}_trigger {tar}_mix D_{tar}_mix\".split()}, f, pickle.HIGHEST_PROTOCOL)\n",
    "print('end')\n",
    "\n",
    "print('end')"
   ]
  },
  {
   "cell_type": "code",
   "execution_count": 32,
   "metadata": {},
   "outputs": [
    {
     "name": "stdout",
     "output_type": "stream",
     "text": [
      "done with:  0  files\n",
      "/home/sebouh/di-hadron/low_energy_protons/Pb_data_hadd.root  has  34564102  entries\n",
      "About to loop over  34564102  entries\n"
     ]
    },
    {
     "name": "stderr",
     "output_type": "stream",
     "text": [
      "/tmp/ipykernel_1781987/1454151576.py:17: RuntimeWarning: invalid value encountered in log\n",
      "  self.ycm = 0.5*np.log(( 1+self.bcm)/(1-self.bcm)) #photon-nucleon center-of-mass rapidity\n"
     ]
    },
    {
     "name": "stdout",
     "output_type": "stream",
     "text": [
      "Processed in 840.926896572113 seconds\n",
      "Number of triggers with z>0.5,   25458\n",
      "Number of pairs with z>0.5,  92591\n",
      "/home/sebouh/di-hadron/low_energy_protons/Pb_data_hadd.root  has  34564102  entries\n",
      "About to loop over  34564102  entries\n"
     ]
    },
    {
     "name": "stderr",
     "output_type": "stream",
     "text": [
      "/tmp/ipykernel_1781987/1454151576.py:17: RuntimeWarning: invalid value encountered in log\n",
      "  self.ycm = 0.5*np.log(( 1+self.bcm)/(1-self.bcm)) #photon-nucleon center-of-mass rapidity\n"
     ]
    },
    {
     "name": "stdout",
     "output_type": "stream",
     "text": [
      "Processed in 1471.1745476722717 seconds\n",
      "Number of triggers with z>0.5,   59143\n",
      "Number of pairs with z>0.5,  476753\n",
      "end\n",
      "end\n",
      "TFile: name=/home/sebouh/di-hadron/low_energy_protons/Pb_data_hadd.root, title=, option=READ\n",
      "TFile: name=/home/sebouh/di-hadron/low_energy_protons/Pb_data_hadd.root, title=, option=READ\n"
     ]
    }
   ],
   "source": [
    "#path = '/home/sebouh/di-hadron/data/P27/pb/'\n",
    "path = '/home/sebouh/di-hadron/low_energy_protons/'\n",
    "#path='/home/seba/'\n",
    "tar='Pb'\n",
    "import glob\n",
    "Files = glob.glob(path+f\"{tar}*.root\") \n",
    "count=0\n",
    "for name in Files:\n",
    "    filename = name\n",
    "    print ('done with: ', count, ' files')\n",
    "    count=count+1\n",
    "    if( '.root' not in name): continue \n",
    "    pairs, pairs_mix, trigger = getDataframes(filename,Target=2) ## getDataframes is a function just created\n",
    "    df[tar] = pd.concat([ df[tar], pairs])\n",
    "    df['%s_mix'%tar] = pd.concat([ df['%s_mix'%tar], pairs_mix])\n",
    "    df['%s_trigger'%tar] = pd.concat([ df['%s_trigger'%tar], trigger])\n",
    "    pairs, pairs_mix, trigger = getDataframes(filename,Target=1) ## getDataframes is a function just created\n",
    "    df['D_%s'%tar] = pd.concat([ df['D_%s'%tar], pairs])\n",
    "    df['D_%s_mix'%tar] = pd.concat([ df['D_%s_mix'%tar], pairs_mix])\n",
    "    df['D_%s_trigger'%tar] = pd.concat([ df['D_%s_trigger'%tar], trigger])\n",
    "tar = \"Pb\"\n",
    "import pickle\n",
    "with open(f\"data_pion_proton_pairs_{tar}.pkl\", \"wb\") as f:\n",
    "    pickle.dump({a:df[a] for a in f\"{tar} D_{tar} {tar}_trigger D_{tar}_trigger {tar}_mix D_{tar}_mix\".split()}, f, pickle.HIGHEST_PROTOCOL)\n",
    "print('end')\n",
    "print('end')"
   ]
  },
  {
   "cell_type": "markdown",
   "metadata": {},
   "source": [
    "# Simulations"
   ]
  },
  {
   "cell_type": "code",
   "execution_count": null,
   "metadata": {},
   "outputs": [],
   "source": [
    "! ls /home/sebouh/di-hadron/simul/Pb"
   ]
  },
  {
   "cell_type": "code",
   "execution_count": 5,
   "metadata": {},
   "outputs": [
    {
     "name": "stdout",
     "output_type": "stream",
     "text": [
      "done with:  0  files\n",
      "/home/sebouh/di-hadron/simul/D/6.root\n",
      "/home/sebouh/di-hadron/simul/D/6.root  has  8420000  entries\n",
      "About to loop over  8420000  entries\n",
      "Processed in 459.43294954299927 seconds\n",
      "Number of triggers with z>0.5,   45007\n",
      "Number of pairs with z>0.5,  0\n",
      "Entries in the dataframe so far are  45007\n",
      "Entries in the MIXED dataframe so far are  74600\n",
      "Entries in the trigger dataframe so far are  0\n",
      "done with:  1  files\n",
      "/home/sebouh/di-hadron/simul/D/1.root\n",
      "/home/sebouh/di-hadron/simul/D/1.root  has  8880000  entries\n",
      "About to loop over  8880000  entries\n"
     ]
    },
    {
     "name": "stderr",
     "output_type": "stream",
     "text": [
      "/tmp/ipykernel_1106138/1454151576.py:14: RuntimeWarning: invalid value encountered in arccos\n",
      "  self.PhiPQ = sign*np.arccos(part1.Dot(part2))\n"
     ]
    },
    {
     "name": "stdout",
     "output_type": "stream",
     "text": [
      "Processed in 487.57465076446533 seconds\n",
      "Number of triggers with z>0.5,   46863\n",
      "Number of pairs with z>0.5,  0\n",
      "Entries in the dataframe so far are  91870\n",
      "Entries in the MIXED dataframe so far are  153299\n",
      "Entries in the trigger dataframe so far are  0\n",
      "done with:  2  files\n",
      "/home/sebouh/di-hadron/simul/D/4.root\n",
      "/home/sebouh/di-hadron/simul/D/4.root  has  8660000  entries\n",
      "About to loop over  8660000  entries\n"
     ]
    },
    {
     "name": "stderr",
     "output_type": "stream",
     "text": [
      "/tmp/ipykernel_1106138/1454151576.py:14: RuntimeWarning: invalid value encountered in arccos\n",
      "  self.PhiPQ = sign*np.arccos(part1.Dot(part2))\n"
     ]
    },
    {
     "name": "stdout",
     "output_type": "stream",
     "text": [
      "Processed in 480.40738916397095 seconds\n",
      "Number of triggers with z>0.5,   46028\n",
      "Number of pairs with z>0.5,  0\n",
      "Entries in the dataframe so far are  137898\n",
      "Entries in the MIXED dataframe so far are  229971\n",
      "Entries in the trigger dataframe so far are  0\n",
      "done with:  3  files\n",
      "/home/sebouh/di-hadron/simul/D/9.root\n",
      "/home/sebouh/di-hadron/simul/D/9.root  has  7840000  entries\n",
      "About to loop over  7840000  entries\n"
     ]
    },
    {
     "name": "stderr",
     "output_type": "stream",
     "text": [
      "/tmp/ipykernel_1106138/1454151576.py:14: RuntimeWarning: invalid value encountered in arccos\n",
      "  self.PhiPQ = sign*np.arccos(part1.Dot(part2))\n"
     ]
    },
    {
     "name": "stdout",
     "output_type": "stream",
     "text": [
      "Processed in 432.85423254966736 seconds\n",
      "Number of triggers with z>0.5,   41676\n",
      "Number of pairs with z>0.5,  0\n",
      "Entries in the dataframe so far are  179574\n",
      "Entries in the MIXED dataframe so far are  299692\n",
      "Entries in the trigger dataframe so far are  0\n",
      "done with:  4  files\n",
      "/home/sebouh/di-hadron/simul/D/5.root\n",
      "/home/sebouh/di-hadron/simul/D/5.root  has  8880000  entries\n",
      "About to loop over  8880000  entries\n"
     ]
    },
    {
     "name": "stderr",
     "output_type": "stream",
     "text": [
      "/tmp/ipykernel_1106138/1454151576.py:14: RuntimeWarning: invalid value encountered in arccos\n",
      "  self.PhiPQ = sign*np.arccos(part1.Dot(part2))\n"
     ]
    },
    {
     "name": "stdout",
     "output_type": "stream",
     "text": [
      "Processed in 489.9834017753601 seconds\n",
      "Number of triggers with z>0.5,   47333\n",
      "Number of pairs with z>0.5,  0\n",
      "Entries in the dataframe so far are  226907\n",
      "Entries in the MIXED dataframe so far are  378085\n",
      "Entries in the trigger dataframe so far are  0\n",
      "done with:  5  files\n",
      "/home/sebouh/di-hadron/simul/D/8.root\n",
      "/home/sebouh/di-hadron/simul/D/8.root  has  8640000  entries\n",
      "About to loop over  8640000  entries\n"
     ]
    },
    {
     "name": "stderr",
     "output_type": "stream",
     "text": [
      "/tmp/ipykernel_1106138/1454151576.py:14: RuntimeWarning: invalid value encountered in arccos\n",
      "  self.PhiPQ = sign*np.arccos(part1.Dot(part2))\n"
     ]
    },
    {
     "name": "stdout",
     "output_type": "stream",
     "text": [
      "Processed in 475.8137412071228 seconds\n",
      "Number of triggers with z>0.5,   45464\n",
      "Number of pairs with z>0.5,  0\n",
      "Entries in the dataframe so far are  272371\n",
      "Entries in the MIXED dataframe so far are  454432\n",
      "Entries in the trigger dataframe so far are  0\n",
      "done with:  6  files\n",
      "/home/sebouh/di-hadron/simul/D/2.root\n",
      "/home/sebouh/di-hadron/simul/D/2.root  has  8940000  entries\n",
      "About to loop over  8940000  entries\n"
     ]
    },
    {
     "name": "stderr",
     "output_type": "stream",
     "text": [
      "/tmp/ipykernel_1106138/1454151576.py:14: RuntimeWarning: invalid value encountered in arccos\n",
      "  self.PhiPQ = sign*np.arccos(part1.Dot(part2))\n"
     ]
    },
    {
     "name": "stdout",
     "output_type": "stream",
     "text": [
      "Processed in 490.1607856750488 seconds\n",
      "Number of triggers with z>0.5,   47355\n",
      "Number of pairs with z>0.5,  0\n",
      "Entries in the dataframe so far are  319726\n",
      "Entries in the MIXED dataframe so far are  532801\n",
      "Entries in the trigger dataframe so far are  0\n",
      "done with:  7  files\n",
      "/home/sebouh/di-hadron/simul/D/3.root\n",
      "/home/sebouh/di-hadron/simul/D/3.root  has  8460000  entries\n",
      "About to loop over  8460000  entries\n"
     ]
    },
    {
     "name": "stderr",
     "output_type": "stream",
     "text": [
      "/tmp/ipykernel_1106138/1454151576.py:14: RuntimeWarning: invalid value encountered in arccos\n",
      "  self.PhiPQ = sign*np.arccos(part1.Dot(part2))\n"
     ]
    },
    {
     "name": "stdout",
     "output_type": "stream",
     "text": [
      "Processed in 465.3956685066223 seconds\n",
      "Number of triggers with z>0.5,   45403\n",
      "Number of pairs with z>0.5,  0\n",
      "Entries in the dataframe so far are  365129\n",
      "Entries in the MIXED dataframe so far are  608044\n",
      "Entries in the trigger dataframe so far are  0\n",
      "done with:  8  files\n",
      "/home/sebouh/di-hadron/simul/D/7.root\n",
      "/home/sebouh/di-hadron/simul/D/7.root  has  8740000  entries\n",
      "About to loop over  8740000  entries\n"
     ]
    },
    {
     "name": "stderr",
     "output_type": "stream",
     "text": [
      "/tmp/ipykernel_1106138/1454151576.py:14: RuntimeWarning: invalid value encountered in arccos\n",
      "  self.PhiPQ = sign*np.arccos(part1.Dot(part2))\n"
     ]
    },
    {
     "name": "stdout",
     "output_type": "stream",
     "text": [
      "Processed in 483.5199704170227 seconds\n",
      "Number of triggers with z>0.5,   46389\n",
      "Number of pairs with z>0.5,  0\n",
      "Entries in the dataframe so far are  411518\n",
      "Entries in the MIXED dataframe so far are  685631\n",
      "Entries in the trigger dataframe so far are  0\n",
      "done with:  0  files\n",
      "/home/sebouh/di-hadron/simul/C/6.root\n",
      "/home/sebouh/di-hadron/simul/C/6.root  has  8800000  entries\n",
      "About to loop over  8800000  entries\n"
     ]
    },
    {
     "name": "stderr",
     "output_type": "stream",
     "text": [
      "/tmp/ipykernel_1106138/1454151576.py:14: RuntimeWarning: invalid value encountered in arccos\n",
      "  self.PhiPQ = sign*np.arccos(part1.Dot(part2))\n"
     ]
    },
    {
     "name": "stdout",
     "output_type": "stream",
     "text": [
      "Processed in 486.837690114975 seconds\n",
      "Number of triggers with z>0.5,   45136\n",
      "Number of pairs with z>0.5,  0\n",
      "Entries in the dataframe so far are  45136\n",
      "Entries in the MIXED dataframe so far are  74728\n",
      "Entries in the trigger dataframe so far are  0\n",
      "done with:  1  files\n",
      "/home/sebouh/di-hadron/simul/C/1.root\n",
      "/home/sebouh/di-hadron/simul/C/1.root  has  8420000  entries\n",
      "About to loop over  8420000  entries\n",
      "Processed in 464.19012689590454 seconds\n",
      "Number of triggers with z>0.5,   42912\n",
      "Number of pairs with z>0.5,  0\n",
      "Entries in the dataframe so far are  88048\n",
      "Entries in the MIXED dataframe so far are  147013\n",
      "Entries in the trigger dataframe so far are  0\n",
      "done with:  2  files\n",
      "/home/sebouh/di-hadron/simul/C/4.root\n",
      "/home/sebouh/di-hadron/simul/C/4.root  has  8520000  entries\n",
      "About to loop over  8520000  entries\n"
     ]
    },
    {
     "name": "stderr",
     "output_type": "stream",
     "text": [
      "/tmp/ipykernel_1106138/1454151576.py:14: RuntimeWarning: invalid value encountered in arccos\n",
      "  self.PhiPQ = sign*np.arccos(part1.Dot(part2))\n"
     ]
    },
    {
     "name": "stdout",
     "output_type": "stream",
     "text": [
      "Processed in 467.7376091480255 seconds\n",
      "Number of triggers with z>0.5,   43808\n",
      "Number of pairs with z>0.5,  0\n",
      "Entries in the dataframe so far are  131856\n",
      "Entries in the MIXED dataframe so far are  220185\n",
      "Entries in the trigger dataframe so far are  0\n",
      "done with:  3  files\n",
      "/home/sebouh/di-hadron/simul/C/9.root\n",
      "/home/sebouh/di-hadron/simul/C/9.root  has  9100000  entries\n",
      "About to loop over  9100000  entries\n"
     ]
    },
    {
     "name": "stderr",
     "output_type": "stream",
     "text": [
      "/tmp/ipykernel_1106138/1454151576.py:14: RuntimeWarning: invalid value encountered in arccos\n",
      "  self.PhiPQ = sign*np.arccos(part1.Dot(part2))\n"
     ]
    },
    {
     "name": "stdout",
     "output_type": "stream",
     "text": [
      "Processed in 502.8386869430542 seconds\n",
      "Number of triggers with z>0.5,   46600\n",
      "Number of pairs with z>0.5,  0\n",
      "Entries in the dataframe so far are  178456\n",
      "Entries in the MIXED dataframe so far are  298964\n",
      "Entries in the trigger dataframe so far are  0\n",
      "done with:  4  files\n",
      "/home/sebouh/di-hadron/simul/C/5.root\n",
      "/home/sebouh/di-hadron/simul/C/5.root  has  8700000  entries\n",
      "About to loop over  8700000  entries\n",
      "Processed in 479.28552627563477 seconds\n",
      "Number of triggers with z>0.5,   44536\n",
      "Number of pairs with z>0.5,  0\n",
      "Entries in the dataframe so far are  222992\n",
      "Entries in the MIXED dataframe so far are  373229\n",
      "Entries in the trigger dataframe so far are  0\n",
      "done with:  5  files\n",
      "/home/sebouh/di-hadron/simul/C/8.root\n",
      "/home/sebouh/di-hadron/simul/C/8.root  has  8820000  entries\n",
      "About to loop over  8820000  entries\n"
     ]
    },
    {
     "name": "stderr",
     "output_type": "stream",
     "text": [
      "/tmp/ipykernel_1106138/1454151576.py:14: RuntimeWarning: invalid value encountered in arccos\n",
      "  self.PhiPQ = sign*np.arccos(part1.Dot(part2))\n"
     ]
    },
    {
     "name": "stdout",
     "output_type": "stream",
     "text": [
      "Processed in 487.8772232532501 seconds\n",
      "Number of triggers with z>0.5,   45264\n",
      "Number of pairs with z>0.5,  0\n",
      "Entries in the dataframe so far are  268256\n",
      "Entries in the MIXED dataframe so far are  448504\n",
      "Entries in the trigger dataframe so far are  0\n",
      "done with:  6  files\n",
      "/home/sebouh/di-hadron/simul/C/2.root\n",
      "/home/sebouh/di-hadron/simul/C/2.root  has  8320000  entries\n",
      "About to loop over  8320000  entries\n"
     ]
    },
    {
     "name": "stderr",
     "output_type": "stream",
     "text": [
      "/tmp/ipykernel_1106138/1454151576.py:14: RuntimeWarning: invalid value encountered in arccos\n",
      "  self.PhiPQ = sign*np.arccos(part1.Dot(part2))\n"
     ]
    },
    {
     "name": "stdout",
     "output_type": "stream",
     "text": [
      "Processed in 459.12554812431335 seconds\n",
      "Number of triggers with z>0.5,   42694\n",
      "Number of pairs with z>0.5,  0\n",
      "Entries in the dataframe so far are  310950\n",
      "Entries in the MIXED dataframe so far are  520009\n",
      "Entries in the trigger dataframe so far are  0\n",
      "done with:  7  files\n",
      "/home/sebouh/di-hadron/simul/C/3.root\n",
      "/home/sebouh/di-hadron/simul/C/3.root  has  7840000  entries\n",
      "About to loop over  7840000  entries\n",
      "Processed in 432.5288665294647 seconds\n",
      "Number of triggers with z>0.5,   40284\n",
      "Number of pairs with z>0.5,  0\n",
      "Entries in the dataframe so far are  351234\n",
      "Entries in the MIXED dataframe so far are  587521\n",
      "Entries in the trigger dataframe so far are  0\n",
      "done with:  8  files\n",
      "/home/sebouh/di-hadron/simul/C/7.root\n",
      "/home/sebouh/di-hadron/simul/C/7.root  has  8760000  entries\n",
      "About to loop over  8760000  entries\n"
     ]
    },
    {
     "name": "stderr",
     "output_type": "stream",
     "text": [
      "/tmp/ipykernel_1106138/1454151576.py:14: RuntimeWarning: invalid value encountered in arccos\n",
      "  self.PhiPQ = sign*np.arccos(part1.Dot(part2))\n"
     ]
    },
    {
     "name": "stdout",
     "output_type": "stream",
     "text": [
      "Processed in 487.91899704933167 seconds\n",
      "Number of triggers with z>0.5,   44975\n",
      "Number of pairs with z>0.5,  0\n",
      "Entries in the dataframe so far are  396209\n",
      "Entries in the MIXED dataframe so far are  662772\n",
      "Entries in the trigger dataframe so far are  0\n",
      "done with:  0  files\n",
      "/home/sebouh/di-hadron/simul/Fe/6.root\n",
      "/home/sebouh/di-hadron/simul/Fe/6.root  has  1420000  entries\n",
      "About to loop over  1420000  entries\n",
      "Processed in 77.4168450832367 seconds\n",
      "Number of triggers with z>0.5,   7177\n",
      "Number of pairs with z>0.5,  0\n",
      "Entries in the dataframe so far are  7177\n",
      "Entries in the MIXED dataframe so far are  11914\n",
      "Entries in the trigger dataframe so far are  0\n",
      "done with:  1  files\n",
      "/home/sebouh/di-hadron/simul/Fe/1.root\n",
      "/home/sebouh/di-hadron/simul/Fe/1.root  has  8980000  entries\n",
      "About to loop over  8980000  entries\n"
     ]
    },
    {
     "name": "stderr",
     "output_type": "stream",
     "text": [
      "/tmp/ipykernel_1106138/1454151576.py:14: RuntimeWarning: invalid value encountered in arccos\n",
      "  self.PhiPQ = sign*np.arccos(part1.Dot(part2))\n"
     ]
    },
    {
     "name": "stdout",
     "output_type": "stream",
     "text": [
      "Processed in 487.37539768218994 seconds\n",
      "Number of triggers with z>0.5,   44701\n",
      "Number of pairs with z>0.5,  0\n",
      "Entries in the dataframe so far are  51878\n",
      "Entries in the MIXED dataframe so far are  88063\n",
      "Entries in the trigger dataframe so far are  0\n",
      "done with:  2  files\n",
      "/home/sebouh/di-hadron/simul/Fe/4.root\n",
      "/home/sebouh/di-hadron/simul/Fe/4.root  has  1780000  entries\n",
      "About to loop over  1780000  entries\n",
      "Processed in 97.19446420669556 seconds\n",
      "Number of triggers with z>0.5,   8812\n",
      "Number of pairs with z>0.5,  0\n",
      "Entries in the dataframe so far are  60690\n",
      "Entries in the MIXED dataframe so far are  102965\n",
      "Entries in the trigger dataframe so far are  0\n",
      "done with:  3  files\n",
      "/home/sebouh/di-hadron/simul/Fe/9.root\n",
      "/home/sebouh/di-hadron/simul/Fe/9.root  has  2723429  entries\n",
      "About to loop over  2723429  entries\n"
     ]
    },
    {
     "name": "stderr",
     "output_type": "stream",
     "text": [
      "/tmp/ipykernel_1106138/1454151576.py:14: RuntimeWarning: invalid value encountered in arccos\n",
      "  self.PhiPQ = sign*np.arccos(part1.Dot(part2))\n"
     ]
    },
    {
     "name": "stdout",
     "output_type": "stream",
     "text": [
      "Processed in 149.01577997207642 seconds\n",
      "Number of triggers with z>0.5,   13704\n",
      "Number of pairs with z>0.5,  0\n",
      "Entries in the dataframe so far are  74394\n",
      "Entries in the MIXED dataframe so far are  125853\n",
      "Entries in the trigger dataframe so far are  0\n",
      "done with:  4  files\n",
      "/home/sebouh/di-hadron/simul/Fe/5.root\n",
      "/home/sebouh/di-hadron/simul/Fe/5.root  has  1400000  entries\n",
      "About to loop over  1400000  entries\n",
      "Processed in 76.36788558959961 seconds\n",
      "Number of triggers with z>0.5,   7124\n",
      "Number of pairs with z>0.5,  0\n",
      "Entries in the dataframe so far are  81518\n",
      "Entries in the MIXED dataframe so far are  137820\n",
      "Entries in the trigger dataframe so far are  0\n",
      "done with:  5  files\n",
      "/home/sebouh/di-hadron/simul/Fe/8.root\n",
      "/home/sebouh/di-hadron/simul/Fe/8.root  has  760000  entries\n",
      "About to loop over  760000  entries\n",
      "Processed in 41.540568351745605 seconds\n",
      "Number of triggers with z>0.5,   3789\n",
      "Number of pairs with z>0.5,  0\n",
      "Entries in the dataframe so far are  85307\n",
      "Entries in the MIXED dataframe so far are  144162\n",
      "Entries in the trigger dataframe so far are  0\n",
      "done with:  6  files\n",
      "/home/sebouh/di-hadron/simul/Fe/2.root\n",
      "/home/sebouh/di-hadron/simul/Fe/2.root  has  9400000  entries\n",
      "About to loop over  9400000  entries\n",
      "Processed in 512.1662452220917 seconds\n",
      "Number of triggers with z>0.5,   47310\n",
      "Number of pairs with z>0.5,  0\n",
      "Entries in the dataframe so far are  132617\n",
      "Entries in the MIXED dataframe so far are  222955\n",
      "Entries in the trigger dataframe so far are  0\n",
      "done with:  7  files\n",
      "/home/sebouh/di-hadron/simul/Fe/3.root\n",
      "/home/sebouh/di-hadron/simul/Fe/3.root  has  5920000  entries\n",
      "About to loop over  5920000  entries\n"
     ]
    },
    {
     "name": "stderr",
     "output_type": "stream",
     "text": [
      "/tmp/ipykernel_1106138/1454151576.py:14: RuntimeWarning: invalid value encountered in arccos\n",
      "  self.PhiPQ = sign*np.arccos(part1.Dot(part2))\n"
     ]
    },
    {
     "name": "stdout",
     "output_type": "stream",
     "text": [
      "Processed in 322.16646122932434 seconds\n",
      "Number of triggers with z>0.5,   29744\n",
      "Number of pairs with z>0.5,  0\n",
      "Entries in the dataframe so far are  162361\n",
      "Entries in the MIXED dataframe so far are  272846\n",
      "Entries in the trigger dataframe so far are  0\n",
      "done with:  8  files\n",
      "/home/sebouh/di-hadron/simul/Fe/7.root\n",
      "/home/sebouh/di-hadron/simul/Fe/7.root  has  1500000  entries\n",
      "About to loop over  1500000  entries\n",
      "Processed in 82.29467678070068 seconds\n",
      "Number of triggers with z>0.5,   7670\n",
      "Number of pairs with z>0.5,  0\n",
      "Entries in the dataframe so far are  170031\n",
      "Entries in the MIXED dataframe so far are  285647\n",
      "Entries in the trigger dataframe so far are  0\n",
      "done with:  0  files\n",
      "/home/sebouh/di-hadron/simul/Pb/6.root\n",
      "/home/sebouh/di-hadron/simul/Pb/6.root  has  2020000  entries\n",
      "About to loop over  2020000  entries\n",
      "Processed in 110.13781666755676 seconds\n",
      "Number of triggers with z>0.5,   10003\n",
      "Number of pairs with z>0.5,  0\n",
      "Entries in the dataframe so far are  10003\n",
      "Entries in the MIXED dataframe so far are  17083\n",
      "Entries in the trigger dataframe so far are  0\n",
      "done with:  1  files\n",
      "/home/sebouh/di-hadron/simul/Pb/1.root\n",
      "/home/sebouh/di-hadron/simul/Pb/1.root  has  1380000  entries\n",
      "About to loop over  1380000  entries\n",
      "Processed in 74.99091672897339 seconds\n",
      "Number of triggers with z>0.5,   6765\n",
      "Number of pairs with z>0.5,  0\n",
      "Entries in the dataframe so far are  16768\n",
      "Entries in the MIXED dataframe so far are  28902\n",
      "Entries in the trigger dataframe so far are  0\n",
      "done with:  2  files\n",
      "/home/sebouh/di-hadron/simul/Pb/4.root\n",
      "/home/sebouh/di-hadron/simul/Pb/4.root  has  1940000  entries\n",
      "About to loop over  1940000  entries\n"
     ]
    },
    {
     "name": "stderr",
     "output_type": "stream",
     "text": [
      "/tmp/ipykernel_1106138/1454151576.py:14: RuntimeWarning: invalid value encountered in arccos\n",
      "  self.PhiPQ = sign*np.arccos(part1.Dot(part2))\n"
     ]
    },
    {
     "name": "stdout",
     "output_type": "stream",
     "text": [
      "Processed in 105.07829284667969 seconds\n",
      "Number of triggers with z>0.5,   9677\n",
      "Number of pairs with z>0.5,  0\n",
      "Entries in the dataframe so far are  26445\n",
      "Entries in the MIXED dataframe so far are  45337\n",
      "Entries in the trigger dataframe so far are  0\n",
      "done with:  3  files\n",
      "/home/sebouh/di-hadron/simul/Pb/9.root\n",
      "/home/sebouh/di-hadron/simul/Pb/9.root  has  2780000  entries\n",
      "About to loop over  2780000  entries\n",
      "Processed in 151.2385709285736 seconds\n",
      "Number of triggers with z>0.5,   13786\n",
      "Number of pairs with z>0.5,  0\n",
      "Entries in the dataframe so far are  40231\n",
      "Entries in the MIXED dataframe so far are  68498\n",
      "Entries in the trigger dataframe so far are  0\n",
      "done with:  4  files\n",
      "/home/sebouh/di-hadron/simul/Pb/5.root\n",
      "/home/sebouh/di-hadron/simul/Pb/5.root  has  1660000  entries\n",
      "About to loop over  1660000  entries\n"
     ]
    },
    {
     "name": "stderr",
     "output_type": "stream",
     "text": [
      "/tmp/ipykernel_1106138/1454151576.py:14: RuntimeWarning: invalid value encountered in arccos\n",
      "  self.PhiPQ = sign*np.arccos(part1.Dot(part2))\n"
     ]
    },
    {
     "name": "stdout",
     "output_type": "stream",
     "text": [
      "Processed in 90.45388650894165 seconds\n",
      "Number of triggers with z>0.5,   8502\n",
      "Number of pairs with z>0.5,  0\n",
      "Entries in the dataframe so far are  48733\n",
      "Entries in the MIXED dataframe so far are  82569\n",
      "Entries in the trigger dataframe so far are  0\n",
      "done with:  5  files\n",
      "/home/sebouh/di-hadron/simul/Pb/8.root\n",
      "/home/sebouh/di-hadron/simul/Pb/8.root  has  2340000  entries\n",
      "About to loop over  2340000  entries\n",
      "Processed in 128.35215401649475 seconds\n",
      "Number of triggers with z>0.5,   11741\n",
      "Number of pairs with z>0.5,  0\n",
      "Entries in the dataframe so far are  60474\n",
      "Entries in the MIXED dataframe so far are  102374\n",
      "Entries in the trigger dataframe so far are  0\n",
      "done with:  6  files\n",
      "/home/sebouh/di-hadron/simul/Pb/2.root\n",
      "/home/sebouh/di-hadron/simul/Pb/2.root  has  2220000  entries\n",
      "About to loop over  2220000  entries\n",
      "Processed in 121.02152013778687 seconds\n",
      "Number of triggers with z>0.5,   11205\n",
      "Number of pairs with z>0.5,  0\n",
      "Entries in the dataframe so far are  71679\n",
      "Entries in the MIXED dataframe so far are  121299\n",
      "Entries in the trigger dataframe so far are  0\n",
      "done with:  7  files\n",
      "/home/sebouh/di-hadron/simul/Pb/3.root\n",
      "/home/sebouh/di-hadron/simul/Pb/3.root  has  2200000  entries\n",
      "About to loop over  2200000  entries\n",
      "Processed in 120.04453444480896 seconds\n",
      "Number of triggers with z>0.5,   11000\n",
      "Number of pairs with z>0.5,  0\n",
      "Entries in the dataframe so far are  82679\n",
      "Entries in the MIXED dataframe so far are  139925\n",
      "Entries in the trigger dataframe so far are  0\n",
      "done with:  8  files\n",
      "/home/sebouh/di-hadron/simul/Pb/7.root\n",
      "/home/sebouh/di-hadron/simul/Pb/7.root  has  1580000  entries\n",
      "About to loop over  1580000  entries\n",
      "Processed in 85.88094162940979 seconds\n",
      "Number of triggers with z>0.5,   7855\n",
      "Number of pairs with z>0.5,  0\n",
      "Entries in the dataframe so far are  90534\n",
      "Entries in the MIXED dataframe so far are  153212\n",
      "Entries in the trigger dataframe so far are  0\n"
     ]
    },
    {
     "data": {
      "image/png": "[encoded data removed]",
      "text/plain": [
       "<Figure size 432x288 with 1 Axes>"
      ]
     },
     "metadata": {
      "needs_background": "light"
     },
     "output_type": "display_data"
    },
    {
     "name": "stdout",
     "output_type": "stream",
     "text": [
      "TFile: name=/home/sebouh/di-hadron/simul/D/6.root, title=, option=READ\n",
      "TFile: name=/home/sebouh/di-hadron/simul/D/1.root, title=, option=READ\n",
      "TFile: name=/home/sebouh/di-hadron/simul/D/4.root, title=, option=READ\n",
      "TFile: name=/home/sebouh/di-hadron/simul/D/9.root, title=, option=READ\n",
      "TFile: name=/home/sebouh/di-hadron/simul/D/5.root, title=, option=READ\n",
      "TFile: name=/home/sebouh/di-hadron/simul/D/8.root, title=, option=READ\n",
      "TFile: name=/home/sebouh/di-hadron/simul/D/2.root, title=, option=READ\n",
      "TFile: name=/home/sebouh/di-hadron/simul/D/3.root, title=, option=READ\n",
      "TFile: name=/home/sebouh/di-hadron/simul/D/7.root, title=, option=READ\n",
      "TFile: name=/home/sebouh/di-hadron/simul/C/6.root, title=, option=READ\n",
      "TFile: name=/home/sebouh/di-hadron/simul/C/1.root, title=, option=READ\n",
      "TFile: name=/home/sebouh/di-hadron/simul/C/4.root, title=, option=READ\n",
      "TFile: name=/home/sebouh/di-hadron/simul/C/9.root, title=, option=READ\n",
      "TFile: name=/home/sebouh/di-hadron/simul/C/5.root, title=, option=READ\n",
      "TFile: name=/home/sebouh/di-hadron/simul/C/8.root, title=, option=READ\n",
      "TFile: name=/home/sebouh/di-hadron/simul/C/2.root, title=, option=READ\n",
      "TFile: name=/home/sebouh/di-hadron/simul/C/3.root, title=, option=READ\n",
      "TFile: name=/home/sebouh/di-hadron/simul/C/7.root, title=, option=READ\n",
      "TFile: name=/home/sebouh/di-hadron/simul/Fe/6.root, title=, option=READ\n",
      "TFile: name=/home/sebouh/di-hadron/simul/Fe/1.root, title=, option=READ\n",
      "TFile: name=/home/sebouh/di-hadron/simul/Fe/4.root, title=, option=READ\n",
      "TFile: name=/home/sebouh/di-hadron/simul/Fe/9.root, title=, option=READ\n",
      "TFile: name=/home/sebouh/di-hadron/simul/Fe/5.root, title=, option=READ\n",
      "TFile: name=/home/sebouh/di-hadron/simul/Fe/8.root, title=, option=READ\n",
      "TFile: name=/home/sebouh/di-hadron/simul/Fe/2.root, title=, option=READ\n",
      "TFile: name=/home/sebouh/di-hadron/simul/Fe/3.root, title=, option=READ\n",
      "TFile: name=/home/sebouh/di-hadron/simul/Fe/7.root, title=, option=READ\n",
      "TFile: name=/home/sebouh/di-hadron/simul/Pb/6.root, title=, option=READ\n",
      "TFile: name=/home/sebouh/di-hadron/simul/Pb/1.root, title=, option=READ\n",
      "TFile: name=/home/sebouh/di-hadron/simul/Pb/4.root, title=, option=READ\n",
      "TFile: name=/home/sebouh/di-hadron/simul/Pb/9.root, title=, option=READ\n",
      "TFile: name=/home/sebouh/di-hadron/simul/Pb/5.root, title=, option=READ\n",
      "TFile: name=/home/sebouh/di-hadron/simul/Pb/8.root, title=, option=READ\n",
      "TFile: name=/home/sebouh/di-hadron/simul/Pb/2.root, title=, option=READ\n",
      "TFile: name=/home/sebouh/di-hadron/simul/Pb/3.root, title=, option=READ\n",
      "TFile: name=/home/sebouh/di-hadron/simul/Pb/7.root, title=, option=READ\n"
     ]
    },
    {
     "name": "stderr",
     "output_type": "stream",
     "text": [
      "Error in <TROOT::TVector2::Phi_mpi_pi>: function called with NaN\n",
      "Error in <TROOT::TVector2::Phi_mpi_pi>: function called with NaN\n",
      "Error in <TROOT::TVector2::Phi_mpi_pi>: function called with NaN\n",
      "Error in <TROOT::TVector2::Phi_mpi_pi>: function called with NaN\n",
      "Error in <TROOT::TVector2::Phi_mpi_pi>: function called with NaN\n"
     ]
    }
   ],
   "source": [
    "for a in 'D C Fe Pb'.split():\n",
    "    dfs_mc={}\n",
    "    path = f'/home/sebouh/di-hadron/simul/{a}/'\n",
    "    #path = '/home/seba/di-hadron/simul/'\n",
    "    Files = listdir(path) \n",
    "    df_mc[a],df_mc[f'{a}_mix'], df_mc[f'{a}_trigger'] = [None,None,None]\n",
    "    count =0\n",
    "    for name in Files:\n",
    "        print('done with: ', count, ' files')\n",
    "        count=count+1\n",
    "        if( '.root' not in name): continue\n",
    "\n",
    "        filename = path+name\n",
    "        print(filename)\n",
    "        pairs, pairs_mix, trigger = getDataframes(filename,tree_name='ntuple_sim',Target=1,\n",
    "                                                  isMC=True,keepH2FailRecon=True, keepH1FailRecon=False, \n",
    "                                                  keepEFailRecon=False, \n",
    "                                                  maxevents=1e8, makeTriggerTuple=False)\n",
    "        df_mc[f'{a}'] = pd.concat([ df_mc[f'{a}'], pairs])\n",
    "        df_mc[f'{a}_mix'] = pd.concat([ df_mc[f'{a}_mix'], pairs_mix])\n",
    "        df_mc[f'{a}_trigger'] = pd.concat([ df_mc[f'{a}_trigger'], trigger])\n",
    "\n",
    "        #plt.hist(pairs.h1_pid)\n",
    "        \n",
    "        print('Entries in the dataframe so far are ', df_mc[a].shape[0])\n",
    "        print('Entries in the MIXED dataframe so far are ', df_mc[f'{a}_mix'].shape[0])\n",
    "        print('Entries in the trigger dataframe so far are ', df_mc[f'{a}_trigger'].shape[0])\n",
    "    \n",
    "        import pickle\n",
    "        with open(f\"MC_pion_proton_pairs_{a}.pkl\", \"wb\") as f:\n",
    "            pickle.dump({a:df_mc[a] for a in f\"{a} {a}_trigger {a}_mix\".split()}, f, pickle.HIGHEST_PROTOCOL)\n",
    "        del pairs, pairs_mix, trigger\n",
    "plt.hist(df_mc['D'].Q2, bins=100)\n",
    "plt.show()"
   ]
  },
  {
   "cell_type": "code",
   "execution_count": 7,
   "metadata": {},
   "outputs": [
    {
     "name": "stdout",
     "output_type": "stream",
     "text": [
      "-rw-rw-r-- 1 sebouh sebouh 133M Jan 24 23:52 MC_pion_proton_pairs_Pb.pkl\n",
      "-rw-rw-r-- 1 sebouh sebouh 249M Jan 24 23:35 MC_pion_proton_pairs_Fe.pkl\n",
      "-rw-rw-r-- 1 sebouh sebouh 579M Jan 24 23:04 MC_pion_proton_pairs_C.pkl\n",
      "-rw-rw-r-- 1 sebouh sebouh 600M Jan 24 21:53 MC_pion_proton_pairs_D.pkl\n"
     ]
    }
   ],
   "source": [
    "!ls -lth MC_pion_proton_pairs_*.pkl"
   ]
  },
  {
   "cell_type": "code",
   "execution_count": 17,
   "metadata": {},
   "outputs": [],
   "source": [
    "#root_pandas.to_root_multi('MC_Pairs_%s_no_h2_kin_cuts.root'%a, df_mc)\n",
    "root_pandas.to_root(df_mc[a],'MC_Pairs_%s_no_h2_kin_cuts.root'%a, a)"
   ]
  },
  {
   "cell_type": "code",
   "execution_count": 6,
   "metadata": {},
   "outputs": [
    {
     "data": {
      "image/png": "[encoded data removed]",
      "text/plain": [
       "<Figure size 432x288 with 1 Axes>"
      ]
     },
     "metadata": {
      "needs_background": "light"
     },
     "output_type": "display_data"
    }
   ],
   "source": [
    "df_mc['D'].hist(\"pass_recon\",bins=100)\n",
    "plt.show()"
   ]
  },
  {
   "cell_type": "code",
   "execution_count": 16,
   "metadata": {},
   "outputs": [
    {
     "name": "stdout",
     "output_type": "stream",
     "text": [
      "Help on module root_pandas:\n",
      "\n",
      "NAME\n",
      "    root_pandas\n",
      "\n",
      "FUNCTIONS\n",
      "    read_root(filename, treename=None, N=None)\n",
      "    \n",
      "    to_root(df, filename, treename)\n",
      "        #create single-tree root file\n",
      "    \n",
      "    to_root_multi(filename, d)\n",
      "        #create root file with multiple trees:\n",
      "        # d is a map of tree name to data frames {\"tree1\":df1, \"tree2\":df2 ... etc}\n",
      "\n",
      "FILE\n",
      "    /home/sebouh/di-hadron/root_pandas.py\n",
      "\n",
      "\n"
     ]
    }
   ],
   "source": [
    "help(root_pandas)"
   ]
  },
  {
   "cell_type": "markdown",
   "metadata": {},
   "source": [
    "# Saving the MC file"
   ]
  },
  {
   "cell_type": "code",
   "execution_count": null,
   "metadata": {},
   "outputs": [],
   "source": [
    "for target in ['Pb']:\n",
    "    to_root(df_mc['%s'%target],'MC_Pairs_%s.root'%target, key='%s'%target)\n",
    "    to_root(df_mc['%s_mix'%target],'MC_Pairs_%s.root'%target, key='%s_mix'%target,mode='a')\n",
    "    to_root(df_mc['%s_trigger'%target],'MC_Pairs_%s.root'%target, key='%s_trigger'%target, mode='a')"
   ]
  },
  {
   "cell_type": "code",
   "execution_count": null,
   "metadata": {},
   "outputs": [],
   "source": [
    "for kk in range(5):\n",
    "    print('inside the loop',kk)\n",
    "print('outside the loop',kk)    "
   ]
  },
  {
   "cell_type": "code",
   "execution_count": null,
   "metadata": {},
   "outputs": [],
   "source": [
    "    for ievt  in range(mytree.GetEntries()):\n",
    "        mytree.GetEntry(ievt)   \n",
    "        particles = []  ## this is how you define a list in python, this is created for each event\n",
    "        for i in range(len(mytree.pid)):\n",
    "            i_part = particle(mytree.pid[i], i_lv, virtual_photon, mytree.ThetaPQ[i], mytree.Nphe[i], mytree.deltaZ[i], mytree.FidCheckCutPiPlus[i])     \n",
    "            particles.append(i_part)\n",
    "            if i_part.Zh > 0.4: #only save triggers and do correlations if they have z>0.4\n",
    "                #tupla_trigger['h1_th'].append(mytree.ThetaLab[i])#i_part.LorentzVector.Theta())\n",
    "                #for j in range(len(mytree.pid)): \n",
    "                #    if i==j: continue\n",
    "                #    tupla['dphi'].append(dphi)\n",
    "                #print(ievt,i,j)\n",
    "                for mixparticle in ParticlesFromPrevious:\n",
    "                    print('inside mixparticle loop')\n",
    "                    #print(i,mixparticle, ParticlesFromPrevious)\n",
    "                    dphi = abs(ROOT.TVector2.Phi_mpi_pi(i_part.PhiPQ-mixparticle.PhiPQ))\n",
    "                    tupla_mix['dphi_norot'].append(dphi)\n",
    "\n",
    "                    mixparticle.redefine(virtual_photon) #recalculates variables in this' event photon frame (not in the previous one)\n",
    "                    tupla_mix['h2_th'].append(mytree.ThetaLab[j])\n",
    "        #print (' Exiting main loop over particles (i loop, not over all entries)')\n",
    "        ParticlesFromPrevious = particles\n",
    "        #print ' going for next event'    \n",
    "        #print ' particles in event', len(particles\n",
    "        ##end loop over events correlations    \n",
    "    end = time.time()\n",
    "    return df, df_mix, df_trigger        \n",
    "        \n",
    "        \n",
    "        "
   ]
  },
  {
   "cell_type": "code",
   "execution_count": null,
   "metadata": {},
   "outputs": [],
   "source": [
    "\n"
   ]
  },
  {
   "cell_type": "code",
   "execution_count": null,
   "metadata": {},
   "outputs": [],
   "source": []
  }
 ],
 "metadata": {
  "kernelspec": {
   "display_name": "Python 3 (ipykernel)",
   "language": "python",
   "name": "python3"
  },
  "language_info": {
   "codemirror_mode": {
    "name": "ipython",
    "version": 3
   },
   "file_extension": ".py",
   "mimetype": "text/x-python",
   "name": "python",
   "nbconvert_exporter": "python",
   "pygments_lexer": "ipython3",
   "version": "3.8.10"
  }
 },
 "nbformat": 4,
 "nbformat_minor": 4
}
