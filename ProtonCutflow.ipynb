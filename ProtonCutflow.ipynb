{
 "cells": [
  {
   "cell_type": "code",
   "execution_count": 1,
   "id": "4200812c-8be6-476d-9b4c-128930a341f8",
   "metadata": {},
   "outputs": [],
   "source": [
    "#load libraries \n",
    "import time,os\n",
    "from matplotlib.offsetbox import AnchoredText\n",
    "import sys,pandas as pd, matplotlib , matplotlib.pyplot as plt, matplotlib.lines, numpy as np, math, pylab\n",
    "from mpl_toolkits.mplot3d import Axes3D\n",
    "from matplotlib import cm\n",
    "#import cudf\n",
    "#import ROOT\n",
    "#from ROOT import TFile\n",
    "\n",
    "#import root_pandas\n",
    "\n",
    "#from toggle_cell import hide_cell \n",
    "#import uproot3\n",
    "%matplotlib inline\n",
    "\n",
    "#presets for plot style\n",
    "from scipy.constants import golden\n",
    "params = {'legend.fontsize': 'x-large',\n",
    "          'figure.figsize': (7, 7/golden),\n",
    "         'axes.labelsize': 'x-large',\n",
    "         'axes.titlesize':'x-large',\n",
    "         'xtick.labelsize':'x-large',\n",
    "         'ytick.labelsize':'x-large'}\n",
    "pylab.rcParams.update(params)\n",
    "\n",
    "viridis = cm.get_cmap('viridis', 12)\n",
    "inferno = cm.get_cmap('inferno', 12)\n",
    "autumn = cm.get_cmap('autumn', 12)\n",
    "\n",
    "#physical_devices = tf.config.list_physical_devices('GPU')\n",
    "#tf.config.experimental.set_memory_growth(physical_devices[0], True)\n",
    "#tf.config.experimental.set_memory_growth(physical_devices[1], True)\n",
    "rc = plt.rc\n",
    "rc('text', usetex=False)\n",
    "import matplotlib as mpl\n",
    "rc('font', family='serif')\n",
    "rc('text', usetex=False)\n",
    "rc('font', size=15)\n",
    "rc('xtick', labelsize=15)\n",
    "rc('ytick', labelsize=15)\n",
    "rc('legend', fontsize=15)\n",
    "\n",
    "plt.rcParams['figure.facecolor']='white'\n",
    "plt.rcParams['savefig.facecolor']='white'\n",
    "plt.rcParams['savefig.bbox']='tight'\n",
    "\n",
    "import root_pandas,glob\n",
    "\n",
    "import gc\n",
    "\n",
    "import uproot\n",
    "def read_n(pattern, n):\n",
    "    if not '*' in pattern:\n",
    "        a = root_pandas.read_root(pattern,chunksize=int(n))\n",
    "    else:\n",
    "        a = root_pandas.read_root(glob.glob(pattern),chunksize=int(n))\n",
    "    for b in a:\n",
    "        del a\n",
    "        print(n)\n",
    "        return b\n",
    "\n",
    "from scipy.optimize import curve_fit\n",
    "\n",
    "image_dir='images'\n",
    "\n",
    "#import misc_util#correlation_plots\n",
    "\n",
    "import R2h_module\n",
    "#import imp\n",
    "#imp.reload(R2h_module)\n",
    "\n",
    "import mplhep as hep\n",
    "hep.style.use(\"CMS\")"
   ]
  },
  {
   "cell_type": "code",
   "execution_count": 2,
   "id": "1a199f2d-09f7-4411-8b40-a39cdf21852f",
   "metadata": {},
   "outputs": [],
   "source": [
    "def getdatainChunks(filename,treename):\n",
    "    import pickle\n",
    "    with open(filename, 'rb') as f:\n",
    "        return pickle.load(f)[treename]"
   ]
  },
  {
   "cell_type": "code",
   "execution_count": 3,
   "id": "9cae30ca-65e4-46f4-bc3c-6c73af7c5e28",
   "metadata": {},
   "outputs": [
    {
     "name": "stdout",
     "output_type": "stream",
     "text": [
      "Getting dataframes from target C\n",
      "Get trigger dataframes from deuterium target C\n",
      "Getting dataframes from target Fe\n",
      "Get trigger dataframes from deuterium target Fe\n",
      "Getting dataframes from target Pb\n",
      "Get trigger dataframes from deuterium target Pb\n",
      "CPU times: user 44.1 ms, sys: 1.44 s, total: 1.48 s\n",
      "Wall time: 1.51 s\n"
     ]
    }
   ],
   "source": [
    "%%time\n",
    "dfs_pair = {}\n",
    "dfs_trigger = {}\n",
    "#path_data=\"/home/sebouh/di-hadron\"\n",
    "#path_data=\"/home/seba/di-hadron/P27\"\n",
    "path_data=\"/media/eic_ucr/sebouh/di-hadron/P27\"\n",
    "path_data=\"/media/miguel/Elements/backup_07-27-23/nvme0n1p2/home/seba/di-hadron/P27/\"\n",
    "path_data=\"P27\"\n",
    "for target in ['C','Fe','Pb']:\n",
    "    print ('Getting dataframes from target %s'%target)\n",
    "    dfs_pair[target]=getdatainChunks(f\"data_pion_proton_pairs_{target}.pkl\", target)\n",
    "    dfs_pair['D_%s'%target]= getdatainChunks(f\"data_pion_proton_pairs_{target}.pkl\", 'D_%s'%target)  \n",
    "    print ('Get trigger dataframes from deuterium target %s'%target)\n",
    "    dfs_trigger['%s'%target] = getdatainChunks(f\"data_pion_proton_pairs_{target}.pkl\", \n",
    "                                                      '%s_trigger'%target)\n",
    "    dfs_trigger['D_%s'%target] = getdatainChunks(f\"data_pion_proton_pairs_{target}.pkl\", \n",
    "                                                        'D_%s_trigger'%target)"
   ]
  },
  {
   "cell_type": "code",
   "execution_count": 4,
   "id": "427eb08f-e502-43a7-bf7d-cc37ef38b77e",
   "metadata": {},
   "outputs": [
    {
     "name": "stdout",
     "output_type": "stream",
     "text": [
      "dict_keys(['C', 'D_C', 'Fe', 'D_Fe', 'Pb', 'D_Pb'])\n",
      "dict_keys(['C', 'D_C', 'Fe', 'D_Fe', 'Pb', 'D_Pb'])\n"
     ]
    }
   ],
   "source": [
    "for dct in dfs_pair, dfs_trigger:\n",
    "    print(dct.keys())\n",
    "    dct['D'] = pd.concat([dct['D_'+a] for a in 'C Fe Pb'.split()])"
   ]
  },
  {
   "cell_type": "code",
   "execution_count": 5,
   "id": "d1440f0e-49af-4deb-bf12-222228ceb0fa",
   "metadata": {},
   "outputs": [
    {
     "name": "stdout",
     "output_type": "stream",
     "text": [
      "\n",
      "key:  C\n",
      "\n",
      "key:  D_C\n",
      "\n",
      "key:  Fe\n",
      "\n",
      "key:  D_Fe\n",
      "\n",
      "key:  Pb\n",
      "\n",
      "key:  D_Pb\n",
      "\n",
      "key:  D\n"
     ]
    }
   ],
   "source": [
    "import R2h_module as r2h\n",
    "\n",
    "for key in dfs_pair.keys():\n",
    "    isMC = False\n",
    "    if 'GiBUU' in key:\n",
    "        isMC=True\n",
    "    print ('\\nkey: ',key)\n",
    "    dfs_pair[key].rename(columns={'h1_FidCut':'h1_FidCutPiPlus'}, inplace=True)\n",
    "    dfs_pair[key].rename(columns={'h2_FidCut':'h2_FidCutPiPlus'}, inplace=True)"
   ]
  },
  {
   "cell_type": "code",
   "execution_count": 6,
   "id": "a3cb4fac-0ca9-4241-8952-9b3633b9a3a9",
   "metadata": {},
   "outputs": [
    {
     "name": "stdout",
     "output_type": "stream",
     "text": [
      "h1_z>0.5 and abs(h2_deltaZ)<3.0 and abs(h1_deltaZ)<3.0 and TargType!=0 and SampFracEl25==1 and h1_FidCutPiPlus==1 and h2_FidCutPiPlus==1 and h1_Nphe> (5*( (h1_z*nu*h1_z*nu-0.13957*0.13957)>(2.700000*2.700000) and h1_pid==211 ) -10000* (not ( (h1_z*nu*h1_z*nu-0.13957*0.13957)>(2.700000*2.700000) and h1_pid==211 ) ) ) and h1_Chi2CC < (0.08726*( (h1_z*nu*h1_z*nu-0.13957*0.13957)>(2.700000*2.700000) and h1_pid==211 ) +10000* (not ( (h1_z*nu*h1_z*nu-0.13957*0.13957)>(2.700000*2.700000) and h1_pid==211 ) ) ) and h1_StatCC>((( (h1_z*nu*h1_z*nu-0.13957*0.13957)>(2.700000*2.700000) and h1_pid==211 ) -1 ))\n"
     ]
    }
   ],
   "source": [
    "import R2h_module\n",
    "print(R2h_module.pair_cut_nom_pi_p)"
   ]
  },
  {
   "cell_type": "code",
   "execution_count": 13,
   "id": "224f3af9-c6fc-4683-ba00-ac0f44f09af5",
   "metadata": {},
   "outputs": [],
   "source": [
    "def poly(a, coeffs):\n",
    "    ret=0\n",
    "    for i in range(len(coeffs)):\n",
    "        ret=ret+coeffs[i]*a**i\n",
    "    return ret\n",
    "ecorr_pars={\"C\":[0.00205, 0.000217, 0.0913],\n",
    "    \"Fe\": [0.00205, 0.000218, 0.0911],\n",
    "    \"Pb\": [0.00205, 0.000218, 0.0912],\n",
    "    \"D\": [0.00208, 0.000255, 0.0886]}\n",
    "for a in \"D C Fe Pb\".split():\n",
    "    df = dfs_pair[a]\n",
    "    p=df.h2_p#eval(\"sqrt(h2_E**2-0.09383**2)\")\n",
    "    T4=df.h2_T4\n",
    "    coeffs_high_range1=120.251,-1168.19,5237.42,-13638.1,22325.3,-23649.6,16177.8,-6894.16,1663.4,-173.474\n",
    "    coeffs_low_range1=-26.8257,153.155,-408.979,673.476,-790.433,708.255,-474.843,217.295,-58.6269,6.90981\n",
    "    coeffs_high_range2=1.59223,-1.49056,0.676338,-0.104644\n",
    "    coeffs_low_range2=-1.1009,0.719988,-0.280016,0.0319352\n",
    "    df['pass_proton_TOF_cut']=((p>0.2)&(p<0.8)&(T4<poly(p,coeffs_high_range1))&(T4>poly(p,coeffs_low_range1)))|\\\n",
    "                  ((p>=0.8)&(p<2.8)&(T4<poly(p,coeffs_high_range2))&(T4>poly(p,coeffs_low_range2))) \n",
    "    #print(len(df.query('pass_proton_TOF_cut'))/len(df))\n",
    "\n",
    "    #Or Hen had .0013, .00084,.074\n",
    "    df.eval(f\"h2_p_corr=sqrt((sqrt(h2_p**2+.9383**2)+{ecorr_pars[a][0]}+{ecorr_pars[a][1]}/({ecorr_pars[a][2]}+h2_p)**2)**2-.9383**2)\", inplace=True)"
   ]
  },
  {
   "cell_type": "code",
   "execution_count": 14,
   "id": "02f8c338-52e8-45f7-b63c-fe11d91ab8c7",
   "metadata": {},
   "outputs": [
    {
     "name": "stdout",
     "output_type": "stream",
     "text": [
      "initial cuts & 100.0%\\\\\n",
      "TOF & 95.6%\\\\\n",
      "$P_p>0.35$ GeV & 88.8%\\\\\n"
     ]
    }
   ],
   "source": [
    "initialCuts='''h1_z>0.5 and TargType!=0 and SampFracEl25==1 and h1_FidCutPiPlus==1 \n",
    "and h1_Nphe> (5*( (h1_z*nu*h1_z*nu-0.13957*0.13957)>(2.700000*2.700000) and h1_pid==211 ) -10000* (not ( (h1_z*nu*h1_z*nu-0.13957*0.13957)>(2.700000*2.700000) and h1_pid==211 ) ) ) \n",
    "and h1_Chi2CC < (0.08726*( (h1_z*nu*h1_z*nu-0.13957*0.13957)>(2.700000*2.700000) and h1_pid==211 ) +10000* (not ( (h1_z*nu*h1_z*nu-0.13957*0.13957)>(2.700000*2.700000) and h1_pid==211 ) ) )\n",
    "and h1_StatCC>((( (h1_z*nu*h1_z*nu-0.13957*0.13957)>(2.700000*2.700000) and h1_pid==211 ) -1 ))'''\n",
    "\n",
    "initialCuts=initialCuts.replace(\"\\n\", \" \")\n",
    "cuts=[initialCuts, \"pass_proton_TOF_cut\", \"h2_p_corr>.35\"]\n",
    "descriptions=[\"initial cuts\", \"TOF\", \"$P_p>0.35$ GeV\"]\n",
    "q=cuts[0]\n",
    "df=dfs_pair['D']\n",
    "for i in range(len(cuts)):\n",
    "    if i == 0:\n",
    "        Ntot= len(df.query(q))\n",
    "        N=Ntot\n",
    "    else :\n",
    "        q=q+\" and \"+cuts[i]\n",
    "        N=len(df.query(q))\n",
    "    print(f\"{descriptions[i]} & {N/Ntot*100:.1f}%\\\\\\\\\")\n",
    "#for df in dfs_pair:\n",
    "    "
   ]
  },
  {
   "cell_type": "code",
   "execution_count": null,
   "id": "92241893-c008-4eff-aba6-6eea6de4ddf6",
   "metadata": {},
   "outputs": [],
   "source": []
  }
 ],
 "metadata": {
  "kernelspec": {
   "display_name": "Python 3 (ipykernel)",
   "language": "python",
   "name": "python3"
  },
  "language_info": {
   "codemirror_mode": {
    "name": "ipython",
    "version": 3
   },
   "file_extension": ".py",
   "mimetype": "text/x-python",
   "name": "python",
   "nbconvert_exporter": "python",
   "pygments_lexer": "ipython3",
   "version": "3.8.10"
  }
 },
 "nbformat": 4,
 "nbformat_minor": 5
}
