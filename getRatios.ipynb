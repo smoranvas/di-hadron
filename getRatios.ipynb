{
 "cells": [
  {
   "cell_type": "code",
   "execution_count": 1,
   "metadata": {},
   "outputs": [
    {
     "name": "stdout",
     "output_type": "stream",
     "text": [
      "Welcome to JupyROOT 6.22/06\n"
     ]
    }
   ],
   "source": [
    "import ROOT\n",
    "from ROOT import TFile\n",
    "import numpy as np\n",
    "import matplotlib as mpl\n",
    "import matplotlib.pyplot as plt\n",
    "import copy\n",
    "import pandas as pd \n",
    "import time\n",
    "import root_pandas as rpd\n",
    "from root_pandas import read_root\n",
    "\n",
    "mpl.rcParams.update({'font.size': 18})\n",
    "mpl.rcParams.update({'legend.fontsize': 20})\n",
    "mpl.rcParams.update({'xtick.labelsize': 18}) \n",
    "mpl.rcParams.update({'ytick.labelsize': 18}) \n",
    "mpl.rcParams.update({'text.usetex' : False})\n",
    "\n",
    "colors = {}\n",
    "colors['C'] = '#1f77b4'\n",
    "colors['Fe'] = '#ff7f0e'\n",
    "colors['Pb']=  '#2ca02c'"
   ]
  },
  {
   "cell_type": "markdown",
   "metadata": {},
   "source": [
    "# Function definition to extract the ratios"
   ]
  },
  {
   "cell_type": "code",
   "execution_count": null,
   "metadata": {},
   "outputs": [],
   "source": [
    "def getRatio(df_A,df_D,df_trigger_A,df_trigger_D, variable='h2_z',trig_cut = 'h1_z>0.5', pair_cut='',minz=0.05,\n",
    "             maxz=0.5,nbins=9, applyweight=False):\n",
    "    print ('Print Trigger Cut ' ,trig_cut)\n",
    "    print ('Total Cut ', trig_cut + pair_cut)\n",
    "    norm_A = df_trigger_A.query(trig_cut).shape[0] \n",
    "    norm_D = df_trigger_D.query(trig_cut).shape[0]\n",
    "    bins= np.linspace(minz,maxz,nbins)\n",
    "    y_A, x_conditional = np.histogram(df_A.query(trig_cut+pair_cut)[variable],bins=bins)\n",
    "    y_D, x_conditional = np.histogram(df_D.query(trig_cut+pair_cut)[variable],bins=bins)\n",
    "    erry_A, x_conditional = np.histogram(df_A.query(trig_cut+pair_cut)[variable],bins=bins)\n",
    "    erry_D, x_conditional = np.histogram(df_D.query(trig_cut+pair_cut)[variable],bins=bins)\n",
    "    x_conditional = (x_conditional[1:] + x_conditional[:-1])/2.0\n",
    "    err_A = np.true_divide(np.sqrt(erry_A),y_A)\n",
    "    err_D = np.true_divide(np.sqrt(erry_D),y_D)\n",
    "    y_A = np.true_divide(y_A,norm_A)\n",
    "    y_D = np.true_divide(y_D,norm_D)\n",
    "    ratio_conditional = np.true_divide(y_A,y_D)\n",
    "    error_conditional = np.multiply(ratio_conditional, np.sqrt(np.power(err_A,2.0) + np.power(err_D,2.0)))\n",
    "    return ratio_conditional,error_conditional,x_conditional\n",
    "\n"
   ]
  },
  {
   "cell_type": "markdown",
   "metadata": {},
   "source": [
    "# Definition of functions related to the cuts applied"
   ]
  },
  {
   "cell_type": "code",
   "execution_count": null,
   "metadata": {},
   "outputs": [],
   "source": [
    "def applyCut(inputDataframe, cut, text=None):\n",
    "    nbeforecut = inputDataframe.shape[0]\n",
    "    cutDataframe = None\n",
    "    if nbeforecut>0:\n",
    "        cutDataframe = inputDataframe.query(cut)\n",
    "        if text:\n",
    "            print (text, cutDataframe.shape[0], ' (%2.2f '%(100.0*cutDataframe.shape[0]/nbeforecut), '%)')\n",
    "    return cutDataframe\n",
    "\n",
    "def applyCuts(fullDataframe,name='default',isMC=False,isTrigger=True): \n",
    "    dataframe = fullDataframe\n",
    "    if(dataframe.shape[0]>0):\n",
    "        print ('Entries before cut ', dataframe.shape[0])\n",
    "    dataframe.eval('inelasticity = nu/5.014', inplace=True)\n",
    "    dataframe.eval('h1_e = h1_z*nu', inplace=True)\n",
    "    dataframe.eval('h1_p = sqrt(h1_e*h1_e-0.138*0.138)', inplace=True)\n",
    "    dataframe = applyCut(dataframe, 'Q2>1.0', 'Q2>1.0 :')\n",
    "    #dataframe = applyCut(dataframe, 'Nu>3.0 and Nu<3.5', '3.0 < Nu < 3.5')\n",
    "    #dataframe = applyCut(dataframe, 'h_z>0.5', 'h_z>0.5 :')\n",
    "    dataframe = applyCut(dataframe, 'h1_p <2.5 ', 'h1_p<2.5 ')\n",
    "    dataframe = applyCut(dataframe, 'inelasticity<0.85','inelasticity < 0.85')\n",
    "    return dataframe\n",
    "\n",
    "def applyCutsPair(fullDataframe,name='default',isMC=False):\n",
    "    print ('Starting election on dipion variables')\n",
    "    if (isMC):\n",
    "        print ('This is MC')\n",
    "    else: \n",
    "        print ('This is Data')\n",
    "    \n",
    "    dataframe = fullDataframe\n",
    "    dataframe.eval('z_tot = h1_z+ h2_z', inplace=True)\n",
    "    dataframe.eval('h1_e = h1_z*nu', inplace=True)\n",
    "    dataframe.eval('h1_p = sqrt(h1_e*h1_e-0.138*0.138)', inplace=True)\n",
    "    dataframe.eval('h2_e = h2_z*nu', inplace=True)\n",
    "    dataframe.eval('h2_p = sqrt(h2_e*h2_e-0.138*0.138)', inplace=True)\n",
    "    dataframe = applyCut(dataframe, 'Q2>1.0', 'Q2>1.0 :')\n",
    "    #dataframe = applyCut(dataframe, 'nu>3.0 and nu<3.5', '3.0 < nu < 3.5')\n",
    "    dataframe = applyCut(dataframe, 'h1_z>0.5', 'h1_z>0.5 :')\n",
    "    dataframe = applyCut(dataframe, 'h1_p <2.5 ', 'h1_p<2.5 ')\n",
    "    #dataframe = applyCut(dataframe, 'h1_pid*h2_pid<0', 'Opposite sign pairs')\n",
    "    dataframe.eval('pair_pt2 = pair_pt*pair_pt', inplace=True)\n",
    "    dataframe = applyCut(dataframe, 'h2_pid==2212 | abs(h2_pid)==211', 'h2_pid =2212 or pions') \n",
    "    dataframe = applyCut(dataframe, 'h2_p<2.5', 'h2_p <2.5 GeV')\n",
    "\n",
    "    if (not isMC):\n",
    "        dataframe = applyCut(dataframe, 'h2_th<120 and h2_th>10', '10< h2_th<120')\n",
    "        dataframe = applyCut(dataframe, 'h2_p>0.200', 'h2_p>0.200')\n",
    "        dataframe = applyCut(dataframe, 'h2_pid==2212 | (h2_pid==211)| (h2_pid==-211 & h2_th>30)| (h2_pid==-211 & h2_th<30 & h2_p>0.600)','P>500 for pi- with theta<30')\n",
    "    \n",
    "    return dataframe\n",
    "\n",
    "def printPairBreakdown(dataframe):\n",
    "    allpairs = 1.0*dataframe.shape[0]\n",
    "    print ('All pairs ', allpairs)\n",
    "    print ('Pairs with Leading pi+', np.true_divide(dataframe.query('h1_pid==211').shape[0],allpairs))\n",
    "    print ('Pairs with Leading pi-', dataframe.query('h1_pid==-211').shape[0]/allpairs)\n",
    "    print ('Pairs with Sub-Leading pi+', dataframe.query('h2_pid==211').shape[0]/allpairs)\n",
    "    print ('Pairs with Sub-Leading pi-', dataframe.query('h2_pid==-211').shape[0]/allpairs)\n",
    "    print ('pi+ pi+ pairs',dataframe.query('h1_pid==211 and h2_pid==211').shape[0]/allpairs)\n",
    "    print ('pi- pi- pairs',dataframe.query('h1_pid==-211 and h2_pid==-211').shape[0]/allpairs)\n",
    "    print ('pi+ pi- pairs',dataframe.query('h1_pid==211 and h2_pid==-211').shape[0]/allpairs)\n",
    "    print ('pi- pi+ pairs',dataframe.query('h1_pid==-211 and h2_pid==211').shape[0]/allpairs)\n",
    "    print ('//////////////////////////////////////////////////////')\n",
    "    return\n"
   ]
  },
  {
   "cell_type": "markdown",
   "metadata": {},
   "source": [
    "# Get data from Ntuples to dataframes"
   ]
  },
  {
   "cell_type": "code",
   "execution_count": null,
   "metadata": {},
   "outputs": [],
   "source": [
    "#this needs to be read in chunks otherwise it uses all memory. (from https://github.com/scikit-hep/root_pandas)\n",
    "def getdatainChunks(filename,treename):\n",
    "    dataframe =pd.DataFrame()\n",
    "    for df in read_root(filename, treename, chunksize=100000) :\n",
    "        #print df.shape[0]\n",
    "        dataframe = pd.concat([dataframe,df], ignore_index=True) #concat is for join two data frames, nothing else\n",
    "    print (dataframe.shape[0])\n",
    "    return dataframe"
   ]
  },
  {
   "cell_type": "markdown",
   "metadata": {},
   "source": [
    "# Getting Data"
   ]
  },
  {
   "cell_type": "code",
   "execution_count": null,
   "metadata": {},
   "outputs": [],
   "source": [
    "df = {}\n",
    "df_trigger = {}\n",
    "\n",
    "for target in ['C','Fe','Pb']:\n",
    "    print ('Getting dataframes from target %s'%target)\n",
    "    df[target]=getdatainChunks('/home/seba/CreatePairTuples/original_Pairs_%s.root'%target, target)\n",
    "    df['D_%s'%target]= getdatainChunks('/home/seba/CreatePairTuples/original_Pairs_%s.root'%target, 'D_%s'%target)  \n",
    "    print ('Get trigger dataframes from deuterium target %s'%target)\n",
    "    df_trigger['%s_trigger'%target] = getdatainChunks('/home/seba/CreatePairTuples/original_Pairs_%s.root'%target, '%s_trigger'%target)\n",
    "    df_trigger['D_%s_trigger'%target] = getdatainChunks('/home/seba/CreatePairTuples/original_Pairs_%s.root'%target, 'D_%s_trigger'%target)"
   ]
  },
  {
   "cell_type": "markdown",
   "metadata": {},
   "source": [
    "# Combine the D2 data-sets"
   ]
  },
  {
   "cell_type": "code",
   "execution_count": null,
   "metadata": {},
   "outputs": [],
   "source": [
    "#df['D'] = df['D_Fe']\n",
    "#df_trigger['D_trigger'] = df_trigger['D_Fe_trigger']\n",
    " #df['D'] = pd.concat([df['D_Fe']) #simply combine the deuterium results for all targets\n",
    "#df_trigger['D_trigger'] = pd.concat([df_trigger['D_Fe_trigger']]) #simply combine the deuterium results for all targets\n",
    "\n",
    "#print (df.keys())\n",
    "#print(df['Fe'].keys())\n",
    "#print(df_trigger['Fe_trigger'].keys())\n",
    "## this is just to notice that there are no vectors in the variables, all of them are numbers\n",
    "#print(df['Fe'].describe())\n",
    "#print('there are ',len(df['Fe']), 'entries')"
   ]
  },
  {
   "cell_type": "markdown",
   "metadata": {},
   "source": [
    "watching some distributions"
   ]
  },
  {
   "cell_type": "code",
   "execution_count": null,
   "metadata": {},
   "outputs": [],
   "source": [
    "#df['Fe'].hist(figsize=(12,12),bins=100,column=['dphi','dphi_lab','h2_cm_th','h2_pid'])\n",
    "#plt.show()"
   ]
  },
  {
   "cell_type": "markdown",
   "metadata": {},
   "source": [
    "# Apply selection to datasets"
   ]
  },
  {
   "cell_type": "code",
   "execution_count": null,
   "metadata": {},
   "outputs": [],
   "source": [
    "#dataframees with pairs\n",
    "for key in df.keys():\n",
    "    isMC = False\n",
    "    if 'GiBUU' in key:\n",
    "        isMC=True\n",
    "    \n",
    "    print ('\\nkey: ',key)\n",
    "    df[key] = applyCuts(df[key],isMC=isMC)\n",
    "    df[key] = applyCutsPair(df[key],isMC=isMC)"
   ]
  },
  {
   "cell_type": "markdown",
   "metadata": {},
   "source": [
    "\n",
    "# R_2h data from HERMES and Neutrino buble-chamber experiment"
   ]
  },
  {
   "cell_type": "code",
   "execution_count": null,
   "metadata": {},
   "outputs": [],
   "source": [
    "#hermes data:\n",
    "hermes_y = {}\n",
    "hermes_ystat = {}\n",
    "hermes_ysyst = {}\n",
    "hermes_ytotal = {}\n",
    "\n",
    "#DATA FROM SELECTIO1 OF http://www-hermes.desy.de/notes/pub/publications.html\n",
    "hermes_x = {}\n",
    "hermes_x['Kr'] = [0.09,0.15,0.24,0.35,0.44]\n",
    "hermes_x['N'] = np.subtract(hermes_x['Kr'],0.004)\n",
    "hermes_x['Xe'] = np.subtract(hermes_x['Kr'],-0.004)\n",
    "\n",
    "#nitrogen, atomic number 7\n",
    "hermes_y['N']     = [1.0324, 0.9781,0.9293,0.8678,0.8822]\n",
    "hermes_ystat['N'] = [0.0767,0.0268,0.0323,0.0478,0.0601]\n",
    "hermes_ysyst['N'] = [0.0206,0.0196,0.0186,0.0174,0.0176]\n",
    "hermes_ytotal['N'] = np.sqrt(np.power(hermes_ystat['N'],2.0)+np.power(hermes_ysyst['N'],2.0))\n",
    "\n",
    "#krypton, atomic number 36\n",
    "hermes_y['Kr'] = [1.2072,0.9180,0.8822,0.8631,1.0314]\n",
    "hermes_ystat['Kr'] = [0.1342,0.0366,0.0452,0.0661,0.0972]\n",
    "hermes_ysyst['Kr'] =[0.0241,0.0184,0.0176,0.0173,0.0206]\n",
    "hermes_ytotal['Kr'] = np.sqrt(np.power(hermes_ystat['Kr'],2.0)+np.power(hermes_ysyst['Kr'],2.0))\n",
    "\n",
    "hermes_y['Xe'] = [1.1648,0.9345,0.9242,0.8128,0.9373]\n",
    "hermes_ystat['Xe'] = [0.1205,0.0359,0.0433,0.0614,0.0808]\n",
    "hermes_ysyst['Xe'] = [0.0233,0.0187,0.0185,0.0163,0.0187]\n",
    "hermes_ytotal['Xe'] = np.sqrt(np.power(hermes_ystat['Xe'],2.0)+np.power(hermes_ysyst['Xe'],2.0))\n",
    "\n",
    "\n",
    "neutrino_x = [0.10763636363636367, 0.18618181818181817,0.25163636363636366,0.3345454545454546]\n",
    "neutrino_y = [1.4535664335664338, 1.0148378893833438,  1.0373426573426574, 0.8784361093452003]\n",
    "neutrino_yerror =[1.5794405594405596, 1.112739987285442, 1.1422377622377624,1.004310235219326]\n",
    "neutrino_yerror = np.subtract(neutrino_yerror,neutrino_y)\n",
    "\n",
    "fig = plt.figure(figsize=(8,6))\n",
    "\n",
    "plt.errorbar(hermes_x['N'], hermes_y['N'],yerr=hermes_ytotal['N'],label='Hermes, $^{14}N$',fmt='o')\n",
    "plt.errorbar(hermes_x['Kr'], hermes_y['Kr'],yerr=hermes_ytotal['Kr'],label='Hermes, $^{84}Kr$',fmt='o')\n",
    "plt.errorbar(hermes_x['Xe'], hermes_y['Xe'],yerr=hermes_ytotal['Xe'],label='Hermes, $^{131}Xe$',fmt='o')\n",
    "plt.errorbar(neutrino_x, neutrino_y,yerr=neutrino_yerror,label='SKAT, $A_{eff}=21$',fmt='o')\n",
    "plt.xlabel('$z_{2}$',fontsize=22)\n",
    "plt.ylabel('$R_{2h}$',fontsize=22)\n",
    "plt.axhline(y=1.0,color='black',linestyle='--',alpha=0.5)\n",
    "\n",
    "plt.tight_layout()\n",
    "plt.legend(frameon=True)\n",
    "plt.savefig('PreviousData.png')\n",
    "plt.savefig('PreviousData_R2h.pdf')\n",
    "\n",
    "plt.show()\n"
   ]
  },
  {
   "cell_type": "code",
   "execution_count": null,
   "metadata": {},
   "outputs": [],
   "source": [
    "fig = plt.figure(figsize=(8,6))\n",
    "## getRatio returns:  ratio_conditional,error_conditional,x_conditional\n",
    "\n",
    "for i,target in enumerate(['C','Fe','Pb']):\n",
    "    r, err,x = getRatio(df['%s'%target], df['D_%s'%target], \n",
    "                        df_trigger['%s_trigger'%target], df_trigger['D_%s_trigger'%target],\n",
    "                        minz=0.05,pair_cut='and abs(h2_pid)==211 and h2_z>0.07',maxz=0.45)\n",
    "    plt.errorbar(x+0.01*i,r,yerr=err,label='This work,  %s'%target,fmt='o-',ms=8) ## 'fmt' is for formatting\n",
    "    #plt.fill_between(np.subtract(x,-i*0.005), r*0.94,r*1.04, color=colors[target],alpha=0.2)\n",
    "plt.xlabel('$z_{2}$',fontsize=18)\n",
    "plt.ylabel('$R_{2h}$',fontsize=18)\n",
    "\n",
    "plt.errorbar(hermes_x['N'], hermes_y['N'],yerr=hermes_ytotal['N'],fmt='o',mfc='white',label='HERMES, $N$',fillstyle=None,ms=8,capsize=5)\n",
    "plt.errorbar(hermes_x['Kr'], hermes_y['Kr'],yerr=hermes_ytotal['Kr'],fmt='o',mfc='white',label='HERMES, $Kr$',fillstyle=None,ms=8,capsize=5)\n",
    "plt.errorbar(hermes_x['Xe'], hermes_y['Xe'],yerr=hermes_ytotal['Xe'],fmt='o',mfc='white',label='HERMES, $Xe$',fillstyle=None,ms=8,capsize=5)\n",
    "#plt.errorbar(neutrino_x, neutrino_y,yerr=neutrino_yerror,fmt='s',mfc='white',label='Neutrino, $A_{eff}=21$',fillstyle=None,ms=8,capsize=5)\n",
    "\n",
    "#plt.ylim([0.5,1.5])\n",
    "#plt.xlim([0.00,0.5])\n",
    "plt.axhline(y=1.0,color='black',linestyle='--')\n",
    "plt.legend(loc='best',frameon=False,fontsize=15,ncol=2)\n",
    "\n",
    "plt.tight_layout()\n",
    "plt.savefig('ComparisonWithHermes_Linear.png')\n",
    "#plt.xlim([0.05,0.5])  ##pair_cut='and abs(h2_pid)==211',minz=0.01,maxz=1.0,nbins=20,variable='pair_pt'\n",
    "\n",
    "#plt.xscale('log')\n",
    "#plt.savefig('ComparisonWithHermes_Log.png')\n",
    "plt.grid(True, axis='x',color='gainsboro', linestyle='dashed')\n",
    "plt.grid(True, axis='y',color='gainsboro', linestyle='dashed')\n",
    "\n",
    "plt.show()\n",
    "\n"
   ]
  },
  {
   "cell_type": "markdown",
   "metadata": {},
   "source": [
    "# As a function of Pair_pt\n",
    "pair_pt is a variable, is the transverse momentum of the dipion wrt the virtual photon (the usual pt but this time of the dipion)"
   ]
  },
  {
   "cell_type": "code",
   "execution_count": null,
   "metadata": {},
   "outputs": [],
   "source": [
    "fig = plt.figure(figsize=(8,6))\n",
    "\n",
    "for target in ['C','Fe','Pb']:\n",
    "    r, err,x = getRatio(df['%s'%target], df['D_%s'%target], df_trigger['%s_trigger'%target],\n",
    "                        df_trigger['D_%s_trigger'%target],\n",
    "                        pair_cut='and abs(h2_pid)==211',minz=0.01,maxz=1.0,nbins=20,variable='pair_pt')\n",
    "    plt.errorbar(np.subtract(x,-i*0.005),r,yerr=err,label='This work, %s'%target,ms=8,fmt='o',alpha=0.99,color=colors[target])\n",
    "    plt.fill_between(np.subtract(x,-i*0.005), r*0.94,r*1.04, color=colors[target],alpha=0.2)\n",
    "plt.xlabel('Pair $p_{T}$',fontsize=18)\n",
    "plt.ylabel('$R_{2h}$',fontsize=18)\n",
    "plt.axhline(y=1.0,color='black',linestyle='--')\n",
    "plt.legend(loc='best',frameon=False,fontsize=15,ncol=1)\n",
    "plt.tight_layout()\n",
    "plt.grid(True, axis='x',color='gainsboro', linestyle='dashed')\n",
    "plt.grid(True, axis='y',color='gainsboro', linestyle='dashed')\n",
    "plt.savefig('R2h_Pt.pdf')"
   ]
  },
  {
   "cell_type": "markdown",
   "metadata": {},
   "source": [
    "# As a function of proton rapidity"
   ]
  },
  {
   "cell_type": "code",
   "execution_count": null,
   "metadata": {},
   "outputs": [],
   "source": [
    "fig = plt.figure(figsize=(8,6))\n",
    "for target in ['C','Fe','Pb']:\n",
    "    r, err,x = getRatio(df['%s'%target], df['D_%s'%target], df_trigger['%s_trigger'%target],\n",
    "                        df_trigger['D_%s_trigger'%target],\n",
    "                       pair_cut='and abs(h2_pid)==2212',minz=-1.5,maxz=3.0,nbins=20,variable='h2_rap')\n",
    "    print('target : ', target)                   \n",
    "    plt.errorbar(np.subtract(x,-i*0.005),r,yerr=err,label='This work, %s'%target,ms=8,fmt='o',alpha=0.99,color=colors[target])\n",
    "    plt.fill_between(np.subtract(x,-i*0.005), r*0.94,r*1.04, color=colors[target],alpha=0.2)\n",
    "    \n",
    "plt.xlabel('proton rapidity',fontsize=18)\n",
    "plt.ylabel('$R_{2h}$',fontsize=18)\n",
    "plt.axhline(y=1.0,color='black',linestyle='--')\n",
    "plt.legend(loc='best',frameon=False,fontsize=15,ncol=1)\n",
    "plt.tight_layout()\n",
    "plt.grid(True, axis='x',color='gainsboro', linestyle='dashed')\n",
    "plt.grid(True, axis='y',color='gainsboro', linestyle='dashed')\n",
    "plt.savefig('R2h_ProtonRapidity.png')"
   ]
  },
  {
   "cell_type": "markdown",
   "metadata": {},
   "source": [
    "# With respect to dphi\n",
    "'dphi' is a variable , is the difference between the PhiPQ of the trigger hadron and the secondary hadron"
   ]
  },
  {
   "cell_type": "code",
   "execution_count": null,
   "metadata": {},
   "outputs": [],
   "source": []
  },
  {
   "cell_type": "code",
   "execution_count": null,
   "metadata": {},
   "outputs": [],
   "source": [
    "fig = plt.figure(figsize=(8,6))\n",
    "\n",
    "for target in ['C','Fe','Pb']:\n",
    "    r, err,x = getRatio(df['%s'%target], df['D_%s'%target], df_trigger['%s_trigger'%target],\n",
    "                        df_trigger['D_%s_trigger'%target],\n",
    "                        pair_cut='and abs(h2_pid)==211 and h2_z>0.07 and nu>3.0 and nu<3.5',minz=0.0,maxz=3.14,nbins=20,variable='dphi')\n",
    "                        #pair_cut='and abs(h2_pid)==2212 and h2_z>0.1 and h2_rap>-1.5 and h2_rap<-1.0',minz=0.0,maxz=3.14,nbins=20,variable='dphi')\n",
    "                       \n",
    "    plt.errorbar(np.subtract(x,-i*0.005),r,yerr=err,label='This work, %s'%target,ms=8,fmt='o',alpha=0.99,color=colors[target])\n",
    "    plt.fill_between(np.subtract(x,-i*0.005), r*0.94,r*1.04, color=colors[target],alpha=0.2)\n",
    "plt.xlabel('$|\\Delta\\phi|$ [rad]',fontsize=18)\n",
    "plt.ylabel('$R_{2h}$',fontsize=18)\n",
    "\n",
    "#plt.xlim([0.06,0.5])\n",
    "#plt.ylim([0.0,2.0])\n",
    "\n",
    "plt.axhline(y=1.0,color='black',linestyle='--')\n",
    "plt.legend(loc='best',frameon=False,fontsize=15,ncol=1)\n",
    "plt.grid(True, axis='x',color='gainsboro', linestyle='dashed')\n",
    "plt.grid(True, axis='y',color='gainsboro', linestyle='dashed')\n",
    "plt.tight_layout()\n",
    "plt.savefig('R2h_DeltaPhi.pdf')"
   ]
  },
  {
   "cell_type": "code",
   "execution_count": null,
   "metadata": {},
   "outputs": [],
   "source": [
    "plt.hist(df['Fe']['dphi'],bins=100,alpha=0.5,density=True,label='Iron') # it's normalized due to the density=True!\n",
    "plt.hist(df['D_Fe']['dphi'],bins=100,alpha=0.5,density=True,label='Deuterium')\n",
    "plt.xlabel('dphi')\n",
    "plt.ylabel('Normalized Entries')\n",
    "plt.legend()\n",
    "plt.show()"
   ]
  },
  {
   "cell_type": "markdown",
   "metadata": {},
   "source": [
    "# MC simulations"
   ]
  },
  {
   "cell_type": "markdown",
   "metadata": {},
   "source": [
    "here are test files:  /home/seba/CreatePairTuples/MC_Pairs_C_test.root\n",
    "                      /home/seba/CreatePairTuples/MC_Pairs_D_test.root"
   ]
  },
  {
   "cell_type": "markdown",
   "metadata": {},
   "source": [
    "getting MC data frames"
   ]
  },
  {
   "cell_type": "code",
   "execution_count": null,
   "metadata": {},
   "outputs": [],
   "source": [
    "df_mc = {}\n",
    "df_mc_trigger = {}\n",
    "\n",
    "for target in ['C','D', 'Fe','Pb']:\n",
    "    print ('Getting dataframes from target %s'%target)\n",
    "    df_mc[target]=getdatainChunks('/home/seba/CreatePairTuples/MC_Pairs_%s.root'%target, target)\n",
    "    df_mc_trigger['%s_trigger'%target] = getdatainChunks('/home/seba/CreatePairTuples/MC_Pairs_%s.root'%target, '%s_trigger'%target)"
   ]
  },
  {
   "cell_type": "code",
   "execution_count": null,
   "metadata": {},
   "outputs": [],
   "source": [
    "for key in df_mc.keys():\n",
    "    isMC = False\n",
    "    if 'GiBUU' in key:\n",
    "        isMC=True\n",
    "    \n",
    "    print (key)\n",
    "    \n",
    "    df_mc[key] = applyCuts(df_mc[key],isMC=isMC)\n",
    "    df_mc[key] = applyCutsPair(df_mc[key],isMC=isMC)    \n",
    "    \n",
    "    df_mc[key] = applyCuts(df_mc[key],isMC=isMC)\n",
    "    df_mc[key] = applyCutsPair(df_mc[key],isMC=isMC)"
   ]
  },
  {
   "cell_type": "code",
   "execution_count": null,
   "metadata": {},
   "outputs": [],
   "source": [
    "for key in df_mc_trigger.keys():\n",
    "    print (key)\n",
    "    df_mc_trigger[key] = applyCuts(df_mc_trigger[key],isTrigger=True)\n",
    "    print (' ')"
   ]
  },
  {
   "cell_type": "code",
   "execution_count": null,
   "metadata": {},
   "outputs": [],
   "source": [
    "fig = plt.figure(figsize=(8,6))\n",
    "\n",
    "for i,target in enumerate(['Pb']):\n",
    "    r, err,x = getRatio(df_mc['%s'%target], df_mc['D'], \n",
    "                        df_mc_trigger['%s_trigger'%target], df_mc_trigger['D_trigger'],\n",
    "                        minz=0.08)\n",
    "    \n",
    "    plt.errorbar(x+0.01,r,yerr=err,label='all pairs,  %s'%target,fmt='o',ms=8)\n",
    "    r, err,x = getRatio(df_mc['%s'%target], df_mc['D'], \n",
    "                        df_mc_trigger['%s_trigger'%target], df_mc_trigger['D_trigger'],\n",
    "                        minz=0.08,    pair_cut='and h1_pid>0 and h2_pid<0')\n",
    "    plt.errorbar(x+0.02,r,yerr=err,label='$\\pi^{+}$, $\\pi^{-}$',fmt='o',ms=8)\n",
    "    \n",
    "    \n",
    "    r, err,x = getRatio(df_mc['%s'%target], df_mc['D'], \n",
    "                        df_mc_trigger['%s_trigger'%target], df_mc_trigger['D_trigger'],\n",
    "                        minz=0.08,    pair_cut='and h1_pid<0 and h2_pid>0')\n",
    "    plt.errorbar(x+0.03,r,yerr=err,label='$\\pi^{-}$, $\\pi^{+}$',fmt='o',ms=8)\n",
    "\n",
    "plt.title('Simulation (cross-check)')    \n",
    "plt.ylabel(r'$R_{2h}$',fontsize=22)\n",
    "plt.xlabel(r'$z_{2}$',fontsize=22)\n",
    "plt.ylim([0.5,1.5])\n",
    "plt.grid(True, axis='x',color='gainsboro', linestyle='dashed')\n",
    "plt.grid(True, axis='y',color='gainsboro', linestyle='dashed')\n",
    "plt.legend(frameon=True,loc='best')\n",
    "plt.savefig('pb_mc_check.pdf')\n"
   ]
  },
  {
   "cell_type": "code",
   "execution_count": null,
   "metadata": {},
   "outputs": [],
   "source": []
  },
  {
   "cell_type": "code",
   "execution_count": null,
   "metadata": {},
   "outputs": [],
   "source": []
  },
  {
   "cell_type": "code",
   "execution_count": null,
   "metadata": {},
   "outputs": [],
   "source": []
  },
  {
   "cell_type": "code",
   "execution_count": null,
   "metadata": {},
   "outputs": [],
   "source": []
  },
  {
   "cell_type": "markdown",
   "metadata": {},
   "source": [
    "# GIBUU"
   ]
  },
  {
   "cell_type": "code",
   "execution_count": null,
   "metadata": {},
   "outputs": [],
   "source": [
    "pathGIBUU=\"/home/miguel/eg2dihadron/\"\n",
    "for target in ['D','C','Fe','Pb']:\n",
    "    #GiBUU\n",
    "    print (target)\n",
    "    print (' trigger')\n",
    "    df_trigger['GiBUU_%s_trigger'%target]= getdatainChunks('%sGiBUU_Pairs_%s.root'%(pathGIBUU,target), '%s_trigger'%target)\n",
    "    print (' pairs')\n",
    "    df['GiBUU_%s'%target]= getdatainChunks('%sGiBUU_Pairs_%s.root'%(pathGIBUU,target), target)\n",
    "print (df.keys())"
   ]
  },
  {
   "cell_type": "code",
   "execution_count": null,
   "metadata": {},
   "outputs": [],
   "source": [
    "#df['GiBUU_C'].query('h2_pid==2212').hist(figsize=(24,24),bins=100)\n",
    "#plt.yscale('log')\n",
    "#plt.show()"
   ]
  },
  {
   "cell_type": "code",
   "execution_count": null,
   "metadata": {},
   "outputs": [],
   "source": [
    "for key in df.keys():\n",
    "    isMC = False\n",
    "    if 'GiBUU' in key:\n",
    "        isMC=True\n",
    "    \n",
    "    print (key)\n",
    "    \n",
    "    df[key] = applyCuts(df[key],isMC=isMC)\n",
    "    df[key] = applyCutsPair(df[key],isMC=isMC)"
   ]
  },
  {
   "cell_type": "code",
   "execution_count": null,
   "metadata": {},
   "outputs": [],
   "source": [
    "for key in df_mc.keys():\n",
    "    isMC = False\n",
    "    if 'GiBUU' in key:\n",
    "        isMC=True\n",
    "    \n",
    "    print (key)\n",
    "    \n",
    "    df_mc[key] = applyCuts(df_mc[key],isMC=isMC)\n",
    "    df_mc[key] = applyCutsPair(df_mc[key],isMC=isMC)    \n",
    "    \n",
    "    df_mc[key] = applyCuts(df_mc[key],isMC=isMC)\n",
    "    df_mc[key] = applyCutsPair(df_mc[key],isMC=isMC)"
   ]
  },
  {
   "cell_type": "code",
   "execution_count": null,
   "metadata": {},
   "outputs": [],
   "source": [
    "df['GiBUU_C'].keys()"
   ]
  },
  {
   "cell_type": "code",
   "execution_count": null,
   "metadata": {},
   "outputs": [],
   "source": [
    "fig = plt.figure(figsize=(8,6))\n",
    "\n",
    "for target in ['C','Fe','Pb']:\n",
    "    r, err,x = getRatio(df['GiBUU_%s'%target],df['GiBUU_D'],\n",
    "                        df_trigger['GiBUU_%s_trigger'%target],df_trigger['GiBUU_D_trigger'],\n",
    "                        pair_cut='and h2_pid==2212',minz=0.01,maxz=1.0,nbins=20,variable='pair_pt')\n",
    "    plt.errorbar(x,r,yerr=err,label='GiBUU %s'%target,ms=8,lw=2)\n",
    "for target in ['C','Fe','Pb']:\n",
    "    r, err,x = getRatio(df['%s'%target], df['D_%s'%target], df_trigger['%s_trigger'%target],\n",
    "                        df_trigger['D_%s_trigger'%target],\n",
    "                        pair_cut='and h2_pid==2212',minz=0.01,maxz=1.0,nbins=20,variable='pair_pt')\n",
    "                       \n",
    "    plt.errorbar(np.subtract(x,-i*0.005),r,yerr=err,label='This work, %s'%target,ms=8,fmt='o',alpha=0.99,color=colors[target])\n",
    "    plt.fill_between(np.subtract(x,-i*0.005), r*0.94,r*1.04, color=colors[target],alpha=0.2)\n",
    "plt.xlabel('Pair $p_{T}$',fontsize=18)\n",
    "plt.ylabel('$R_{2h}$',fontsize=18)\n",
    "\n",
    "#plt.xlim([0.06,0.5])\n",
    "#plt.ylim([0.0,2.0])\n",
    "\n",
    "plt.axhline(y=1.0,color='black',linestyle='--')\n",
    "plt.legend(loc='best',frameon=False,fontsize=15,ncol=1)\n",
    "\n",
    "plt.grid(True, axis='x',color='gainsboro', linestyle='dashed')\n",
    "plt.grid(True, axis='y',color='gainsboro', linestyle='dashed')\n",
    "#plt.xscale('log')\n",
    "\n",
    "plt.tight_layout()\n",
    "plt.savefig('TheoryOnly.png')"
   ]
  },
  {
   "cell_type": "code",
   "execution_count": null,
   "metadata": {},
   "outputs": [],
   "source": [
    "fig = plt.figure(figsize=(8,6))\n",
    "\n",
    "for target in ['C','Fe','Pb']:\n",
    "    r, err,x = getRatio(df['GiBUU_%s'%target],df['GiBUU_D'],\n",
    "                        df_trigger['GiBUU_%s_trigger'%target],df_trigger['GiBUU_D_trigger'],\n",
    "                        pair_cut='and abs(h2_pid)==2212',minz=-1.5,maxz=3.0,nbins=20,variable='h2_rap')\n",
    "    plt.errorbar(x,r,yerr=err,label='GiBUU %s'%target,ms=8,lw=2)\n",
    "\n",
    "    \n",
    "for target in ['C','Fe','Pb']:\n",
    "    r, err,x = getRatio(df['%s'%target], df['D_%s'%target], df_trigger['%s_trigger'%target],\n",
    "                        df_trigger['D_%s_trigger'%target],\n",
    "                       pair_cut='and abs(h2_pid)==2212',minz=-1.5,maxz=3.0,nbins=20,variable='h2_rap')\n",
    "                       \n",
    "    plt.errorbar(np.subtract(x,-i*0.005),r,yerr=err,label='This work, %s'%target,ms=8,fmt='o',alpha=0.99,color=colors[target])\n",
    "    plt.fill_between(np.subtract(x,-i*0.005), r*0.94,r*1.04, color=colors[target],alpha=0.2)\n",
    "    \n",
    "plt.xlabel('proton rapidity',fontsize=18)\n",
    "plt.ylabel('$R_{2h}$',fontsize=18)\n",
    "\n",
    "#plt.xlim([0.06,0.5])\n",
    "#plt.ylim([0.0,2.0])\n",
    "\n",
    "plt.axhline(y=1.0,color='black',linestyle='--')\n",
    "plt.legend(loc='best',frameon=False,fontsize=15,ncol=1)\n",
    "\n",
    "\n",
    "#plt.yscale('log')\n",
    "\n",
    "plt.tight_layout()\n",
    "plt.savefig('TheoryOnly.png')\n",
    "\n"
   ]
  },
  {
   "cell_type": "code",
   "execution_count": null,
   "metadata": {},
   "outputs": [],
   "source": [
    "fig = plt.figure(figsize=(8,6))\n",
    "\n",
    "for target in ['C','Fe','Pb']:\n",
    "    r, err,x = getRatio(df['GiBUU_%s'%target],df['GiBUU_D'],\n",
    "                        df_trigger['GiBUU_%s_trigger'%target],df_trigger['GiBUU_D_trigger'],\n",
    "                        pair_cut='and abs(h2_pid)==2212 and h2_z>0.1 and h2_rap>-1.5 and h2_rap<-1.0',minz=0.0,maxz=3.14,nbins=20,variable='dphi')\n",
    "    plt.errorbar(x,r,yerr=err,label='GiBUU %s'%target,ms=8,lw=2)\n",
    "for target in ['C','Fe','Pb']:\n",
    "    r, err,x = getRatio(df['%s'%target], df['D_%s'%target], df_trigger['%s_trigger'%target],\n",
    "                        df_trigger['D_%s_trigger'%target],\n",
    "                        pair_cut='and abs(h2_pid)==2212 and h2_z>0.1 and h2_rap>-1.5 and h2_rap<-1.0',minz=0.0,maxz=3.14,nbins=20,variable='dphi')\n",
    "                       \n",
    "    plt.errorbar(np.subtract(x,-i*0.005),r,yerr=err,label='This work, %s'%target,ms=8,fmt='o',alpha=0.99,color=colors[target])\n",
    "    plt.fill_between(np.subtract(x,-i*0.005), r*0.94,r*1.04, color=colors[target],alpha=0.2)\n",
    "plt.xlabel('$\\Delta\\phi$',fontsize=18)\n",
    "plt.ylabel('$R_{2h}$',fontsize=18)\n",
    "\n",
    "#plt.xlim([0.06,0.5])\n",
    "#plt.ylim([0.0,2.0])\n",
    "\n",
    "plt.axhline(y=1.0,color='black',linestyle='--')\n",
    "plt.legend(loc='best',frameon=False,fontsize=15,ncol=1)\n",
    "\n",
    "\n",
    "#plt.yscale('log')\n",
    "\n",
    "plt.tight_layout()\n",
    "plt.savefig('TheoryOnly.png')"
   ]
  },
  {
   "cell_type": "code",
   "execution_count": null,
   "metadata": {},
   "outputs": [],
   "source": [
    "fig = plt.figure(figsize=(8,6))\n",
    "\n",
    "\n",
    "\n",
    "for i,target in enumerate(['C','Fe','Pb']):\n",
    "    #data\n",
    "    r, err,x = getRatio(df['%s'%target], df['D_%s'%target], df_trigger['%s_trigger'%target], df_trigger['D_%s_trigger'%target]\n",
    "                       ,variable='h2_z',minz=0.05,maxz=0.5\n",
    "                       )\n",
    "    plt.errorbar(np.subtract(x,-i*0.005),r,yerr=err,label='This work, %s'%target,ms=8,fmt='o',alpha=0.99,color=colors[target])\n",
    "    plt.fill_between(np.subtract(x,-i*0.005), r*0.94,r*1.04, color=colors[target],alpha=0.2)\n",
    "    \n",
    "    \n",
    "    #gibuu\n",
    "    r, err,x = getRatio(df['GiBUU_%s'%target],df['GiBUU_D'],df_trigger['GiBUU_%s_trigger'%target],df_trigger['GiBUU_D_trigger']\n",
    "                       ,variable='h2_z',minz=0.05,maxz=0.5, applyweight=False, pair_cut = ' and abs(h2_pid)==211'\n",
    "                       )\n",
    "    #plt.fill_between(x,r,r-err,r+err,label='GiBUU %s'%target,alpha=0.9,lw=5)\n",
    "    plt.plot(x,r,label='GiBUU %s'%target,alpha=0.79,lw=3,color=colors[target])\n",
    "\n",
    "#plt.xscale('log')\n",
    "plt.xlabel('$z_2$',fontsize=22)\n",
    "plt.ylabel('$R_{2h}$',fontsize=22)\n",
    "plt.axhline(y=1.0,color='black',linestyle='--')\n",
    "#plt.ylim([0.0,1.5])\n",
    "plt.tight_layout()\n",
    "plt.savefig('MainResult_withGiBUU_z2.png')\n",
    "\n",
    "\n",
    "#plt.errorbar(hermes_x['N'], hermes_y['N'],yerr=hermes_ytotal['N'],fmt='o',label='Hermes, N',fillstyle=None,ms=8,capsize=5,color='grey')\n",
    "#plt.errorbar(hermes_x['Kr'], hermes_y['Kr'],yerr=hermes_ytotal['Kr'],fmt='o',label='Hermes, Kr',fillstyle=None,ms=8,capsize=5,color='brown')\n",
    "#plt.errorbar(hermes_x['Xe'], hermes_y['Xe'],yerr=hermes_ytotal['Xe'],fmt='o',label='Hermes, Xe',fillstyle=None,ms=8,capsize=5,color='darkviolet')\n",
    "#plt.errorbar(neutrino_x, neutrino_y,yerr=neutrino_yerror,fmt='s',mfc='white',label='Neutrino, $A_{eff}=21$',fillstyle=None,ms=8,capsize=5)\n",
    "\n",
    "plt.tick_params(axis=\"x\", labelsize=16)\n",
    "plt.tick_params(axis=\"y\", labelsize=16)\n",
    "#plt.text(0.20, 1.2, 'CLAS \\nINTERNAL', fontsize=30)\n",
    "\n",
    "plt.legend(frameon=False,ncol=2,fontsize=15)\n",
    "plt.tight_layout()\n",
    "plt.savefig('MainResult_withGiBUU_z2_withHERMES.png')\n",
    "plt.savefig('MainResult_withGiBUU_z2_withHERMES.pdf')"
   ]
  },
  {
   "cell_type": "code",
   "execution_count": null,
   "metadata": {},
   "outputs": [],
   "source": [
    "fig = plt.figure(figsize=(8,6))\n",
    "\n",
    "colors = {}\n",
    "colors['C'] = '#1f77b4'\n",
    "colors['Fe'] = '#ff7f0e'\n",
    "colors['Pb']=  '#2ca02c'\n",
    "\n",
    "for i,target in enumerate(['C','Fe','Pb']):\n",
    "    #data\n",
    "    \n",
    "  \n",
    "    r, err,x = getRatio(df['%s'%target], df['D_%s'%target], df_trigger['%s_trigger'%target], df_trigger['D_%s_trigger'%target]\n",
    "                       ,variable='h2_z',minz=0.07,maxz=0.5,applyweight=False\n",
    "                       )\n",
    "    plt.errorbar(np.subtract(x,0*0.0025),r,yerr=err,label='This work, %s'%target,ms=8,fmt='o',alpha=0.8,color=colors[target])\n",
    "\n",
    "   \n",
    "plt.xlabel('$z_2$',fontsize=22)\n",
    "plt.ylabel('$R_{2h}$',fontsize=22)\n",
    "plt.axhline(y=1.0,color='black',linestyle='--')\n",
    "#plt.ylim([0.0,1.5])\n",
    "plt.tight_layout()\n",
    "plt.savefig('MainResult_withGiBUU_z2.png')\n",
    "\n",
    "\n",
    "plt.tick_params(axis=\"x\", labelsize=16)\n",
    "plt.tick_params(axis=\"y\", labelsize=16)\n",
    "\n",
    "plt.legend(frameon=False,ncol=3,fontsize=15)\n",
    "plt.tight_layout()\n",
    "plt.savefig('MainResult_withGiBUU_z2_withHERMES.png')\n",
    "plt.savefig('MainResult_withGiBUU_z2_withHERMES.pdf')"
   ]
  },
  {
   "cell_type": "markdown",
   "metadata": {},
   "source": [
    "# As a function of the Dipion mass (GeV)\n",
    "the variable is called 'pair_mass'"
   ]
  },
  {
   "cell_type": "code",
   "execution_count": null,
   "metadata": {},
   "outputs": [],
   "source": [
    "fig = plt.figure(figsize=(8,6))\n",
    "\n",
    "colors = {}\n",
    "colors['C'] = '#1f77b4'\n",
    "colors['Fe'] = '#ff7f0e'\n",
    "colors['Pb']=  '#2ca02c'\n",
    "\n",
    "for i,target in enumerate(['C','Fe','Pb']):\n",
    "    r, err,x = getRatio(df['%s'%target], df['D_%s'%target], df_trigger['%s_trigger'%target], df_trigger['D_%s_trigger'%target]\n",
    "                       ,variable='pair_mass',minz=0.4,maxz=2.0,nbins=11,pair_cut='and h2_z>0.10',applyweight=False\n",
    "                       )\n",
    "    plt.errorbar(x+0.02*i,r,yerr=err,label='%s'%target,ms=8,fmt='o',alpha=0.8,color=colors[target])\n",
    "    plt.fill_between(x+0.02*i,r*1.04,r*0.96, alpha=0.2,color=colors[target])\n",
    "    \n",
    "    \n",
    "    r, err,x = getRatio(df['GiBUU_%s'%target],df['GiBUU_D'],df_trigger['GiBUU_%s_trigger'%target],df_trigger['GiBUU_D_trigger']\n",
    "                       ,variable='pair_mass',minz=0.4,maxz=2.0,nbins=11,pair_cut='and h2_z>0.10',applyweight=False\n",
    "                       )\n",
    "    #plt.fill_between(x,r,r-err,r+err,label='GiBUU %s'%target,alpha=0.5)\n",
    "    plt.plot(x+0.02*i,r,color=colors[target],lw=3,alpha=0.8,label='GiBUU %s'%target)\n",
    "plt.tick_params(axis=\"x\", labelsize=16)\n",
    "plt.tick_params(axis=\"y\", labelsize=16)\n",
    "plt.legend(frameon=False,ncol=2,loc='upper left')\n",
    "plt.xlabel('Dipion mass (GeV)',fontsize=22)\n",
    "plt.ylabel('$R_{2h}$',fontsize=22)\n",
    "plt.axhline(y=1.0,color='black',linestyle='--')\n",
    "\n",
    "#plt.text(0.60, 1.1, 'CLAS \\nINTERNAL', fontsize=30)\n",
    "\n",
    "#plt.ylim([0.0,1.2])\n",
    "plt.tight_layout()\n",
    "plt.savefig('MainResult_withGiBUU_mass.png')\n",
    "plt.savefig('MainResult_withGiBUU_mass.pdf')"
   ]
  },
  {
   "cell_type": "code",
   "execution_count": null,
   "metadata": {},
   "outputs": [],
   "source": []
  },
  {
   "cell_type": "code",
   "execution_count": null,
   "metadata": {},
   "outputs": [],
   "source": []
  }
 ],
 "metadata": {
  "kernelspec": {
   "display_name": "Python 3",
   "language": "python",
   "name": "python3"
  },
  "language_info": {
   "codemirror_mode": {
    "name": "ipython",
    "version": 3
   },
   "file_extension": ".py",
   "mimetype": "text/x-python",
   "name": "python",
   "nbconvert_exporter": "python",
   "pygments_lexer": "ipython3",
   "version": "3.8.5"
  }
 },
 "nbformat": 4,
 "nbformat_minor": 4
}
