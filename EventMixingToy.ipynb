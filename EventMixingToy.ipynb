{
 "cells": [
  {
   "cell_type": "code",
   "execution_count": 22,
   "id": "8b3ca964",
   "metadata": {},
   "outputs": [],
   "source": [
    "import numpy as np, pandas as pd, random, matplotlib.pyplot as plt"
   ]
  },
  {
   "cell_type": "code",
   "execution_count": 238,
   "id": "0e4e4b6a",
   "metadata": {},
   "outputs": [],
   "source": [
    "r = random.Random()\n",
    "#set up parameters for simulation\n",
    "mu_q_th=2\n",
    "sig_q_th=1\n",
    "\n",
    "h1_p_sig= .3;\n",
    "h2_p_sig= .3;\n",
    "\n",
    "dct={f\"{a}_{b}\" :[] for a in \"q h1 h2 s n\".split() for b in \"xyz\"}\n",
    "for i in range(100000):\n",
    "    q_th=abs(r.gauss(mu_q_th, sig_q_th))#arbitrary function\n",
    "    q_ph=r.uniform(0,np.pi*2)\n",
    "    q_x=np.cos(q_ph)*np.sin(q_th)\n",
    "    q_y=np.sin(q_ph)*np.sin(q_th)\n",
    "    q_z=np.cos(q_th)\n",
    "    \n",
    "    \n",
    "    \n",
    "    q_t=np.hypot(q_x, q_y)\n",
    "    \n",
    "    s_x =-q_z*q_x/q_t\n",
    "    s_y =-q_z*q_y/q_t\n",
    "    s_z = q_t\n",
    "    \n",
    "    n_x=q_y*s_z-q_z*s_y\n",
    "    n_y=q_z*s_x-q_x*s_z\n",
    "    n_z=q_x*s_y-q_y*s_x\n",
    "    \n",
    "    h1_x=r.gauss(0, h1_p_sig)+q_x\n",
    "    h1_y=r.gauss(0, h1_p_sig)+q_y\n",
    "    h1_z=r.gauss(0, h1_p_sig)+q_z\n",
    "    \n",
    "    h2_x=r.gauss(0, h2_p_sig)+q_x\n",
    "    h2_y=r.gauss(0, h2_p_sig)+q_y\n",
    "    h2_z=r.gauss(0, h2_p_sig)+q_z\n",
    "    \n",
    "    #create an acceptance effect only on the h1\n",
    "    #if h1_z/np.hypot(h1_x,h1_y)<-.5 or h1_z/np.hypot(h1_x,h1_y)>0.7:\n",
    "    #    continue\n",
    "    \n",
    "    dct['q_x'].append(q_x)\n",
    "    dct['q_y'].append(q_y)\n",
    "    dct['q_z'].append(q_z)\n",
    "    dct['s_x'].append(s_x)\n",
    "    dct['s_y'].append(s_y)\n",
    "    dct['s_z'].append(s_z)\n",
    "    \n",
    "    dct['n_x'].append(n_x)\n",
    "    dct['n_y'].append(n_y)\n",
    "    dct['n_z'].append(n_z)\n",
    "    \n",
    "    dct[\"h1_x\"].append(h1_x)\n",
    "    dct[\"h1_y\"].append(h1_y)\n",
    "    dct[\"h1_z\"].append(h1_z)\n",
    "    \n",
    "    dct[\"h2_x\"].append(h2_x)\n",
    "    dct[\"h2_y\"].append(h2_y)\n",
    "    dct[\"h2_z\"].append(h2_z)\n",
    "              \n",
    "df=pd.DataFrame(dct)\n",
    "\n"
   ]
  },
  {
   "cell_type": "code",
   "execution_count": 239,
   "id": "ed70f03c",
   "metadata": {},
   "outputs": [
    {
     "name": "stdout",
     "output_type": "stream",
     "text": [
      "s s 1.00000 0.00000\n",
      "s n -0.00000 0.00000\n",
      "s q 0.00000 0.00000\n",
      "n s -0.00000 0.00000\n",
      "n n 1.00000 0.00000\n",
      "n q -0.00000 0.00000\n",
      "q s 0.00000 0.00000\n",
      "q n -0.00000 0.00000\n",
      "q q 1.00000 0.00000\n"
     ]
    }
   ],
   "source": [
    "#check that the s n and l are orthonormal\n",
    "for a in \"snq\":\n",
    "    for b in \"snq\":\n",
    "        print(a,b,\"%.5f\"%np.mean(df.eval(f\"{a}_x*{b}_x+{a}_y*{b}_y+{a}_z*{b}_z\")),\"%.5f\"% np.std(df.eval(f\"{a}_x*{b}_x+{a}_y*{b}_y+{a}_z*{b}_z\")))"
   ]
  },
  {
   "cell_type": "code",
   "execution_count": 240,
   "id": "626d34a5",
   "metadata": {},
   "outputs": [],
   "source": [
    "def phi12(i, j):\n",
    "    nx=df.n_x[i]\n",
    "    ny=df.n_y[i]\n",
    "    nz=df.n_z[i]\n",
    "    sx=df.s_x[i]\n",
    "    sy=df.s_y[i]\n",
    "    sz=df.s_z[i]\n",
    "    \n",
    "    h1x=df.h1_x[i]\n",
    "    h1y=df.h1_y[i]\n",
    "    h1z=df.h1_z[i]\n",
    "    h2x=df.h2_x[j]\n",
    "    h2y=df.h2_y[j]\n",
    "    h2z=df.h2_z[j]\n",
    "    \n",
    "    phi1 = np.arctan2(h1x*nx+h1y*ny+h1z*nz, h1x*sx+h1y*sy+h1z*sz)\n",
    "    phi2 = np.arctan2(h2x*nx+h2y*ny+h2z*nz, h2x*sx+h2y*sy+h2z*sz)\n",
    "    dphi= phi1-phi2\n",
    "    if dphi>np.pi:\n",
    "        dphi -= 2*np.pi\n",
    "    if dphi<-np.pi:\n",
    "        dphi += 2*np.pi\n",
    "    return phi1, phi2, dphi\n",
    "        \n",
    "    "
   ]
  },
  {
   "cell_type": "code",
   "execution_count": 241,
   "id": "4c259ccf",
   "metadata": {},
   "outputs": [],
   "source": [
    "def pt2(i,j):\n",
    "    h2x=df.h2_x[j]\n",
    "    h2y=df.h2_y[j]\n",
    "    h2z=df.h2_z[j]\n",
    "    qx=df.q_x[i]\n",
    "    qy=df.q_y[i]\n",
    "    qz=df.q_z[i]\n",
    "    return np.sqrt(h2x**2+h2y**2+h2z**2-(qx*h2x+qy*h2y+qz*h2z)**2)\n",
    "def pt1(i):\n",
    "    h1x=df.h1_x[i]\n",
    "    h1y=df.h1_y[i]\n",
    "    h1z=df.h1_z[i]\n",
    "    qx=df.q_x[i]\n",
    "    qy=df.q_y[i]\n",
    "    qz=df.q_z[i]\n",
    "    return np.sqrt(h1x**2+h1y**2+h1z**2-(qx*h1x+qy*h1y+qz*h1z)**2)\n",
    "    "
   ]
  },
  {
   "cell_type": "code",
   "execution_count": 242,
   "id": "5fc2f3f0",
   "metadata": {},
   "outputs": [],
   "source": [
    "dphis=[]\n",
    "pt2s = []\n",
    "pt1s = []\n",
    "phi1s = []\n",
    "phi2s = []\n",
    "a={}\n",
    "for i in range(len(df)):\n",
    "    for j in range(i+1, min(len(df), i+11)):\n",
    "        pt2s.append(pt2(i,j))\n",
    "        phis=phi12(i,j)\n",
    "        phi1s.append(phis[0])\n",
    "        phi2s.append(phis[1])\n",
    "        dphis.append(phis[2])\n",
    "        pt1s.append(pt1(i))\n",
    "        for k in df.columns:\n",
    "            if k not in a.keys():\n",
    "                a[k]=[]\n",
    "            a[k].append(df[k][i])"
   ]
  },
  {
   "cell_type": "code",
   "execution_count": 243,
   "id": "8df40761",
   "metadata": {},
   "outputs": [],
   "source": [
    "df2=pd.DataFrame(dict(dphi=dphis, pt2=pt2s, pt1=pt1s, phi1=phi1s, phi2=phi2s,**a))"
   ]
  },
  {
   "cell_type": "code",
   "execution_count": 244,
   "id": "44476717",
   "metadata": {},
   "outputs": [
    {
     "name": "stdout",
     "output_type": "stream",
     "text": [
      "Index(['dphi', 'pt2', 'pt1', 'phi1', 'phi2', 'q_x', 'q_y', 'q_z', 'h1_x',\n",
      "       'h1_y', 'h1_z', 'h2_x', 'h2_y', 'h2_z', 's_x', 's_y', 's_z', 'n_x',\n",
      "       'n_y', 'n_z'],\n",
      "      dtype='object')\n"
     ]
    }
   ],
   "source": [
    "print(df2.columns)"
   ]
  },
  {
   "cell_type": "code",
   "execution_count": 245,
   "id": "6df610a1",
   "metadata": {
    "scrolled": true
   },
   "outputs": [
    {
     "name": "stdout",
     "output_type": "stream",
     "text": [
      "0.19342584198863447\n"
     ]
    },
    {
     "data": {
      "image/png": "[encoded data removed]",
      "text/plain": [
       "<Figure size 640x480 with 1 Axes>"
      ]
     },
     "metadata": {},
     "output_type": "display_data"
    }
   ],
   "source": [
    "y,x=np.histogram(df2.query(\"pt2>.2 and pt1>.2\").dphi, bins=8, range=(0, np.pi))\n",
    "from scipy.stats import chi2\n",
    "\n",
    "y, dy= y*len(y)/sum(y), np.sqrt(y)*len(y)/sum(y)\n",
    "print(chi2.sf(sum((y-1)**2/dy**2),7))\n",
    "plt.errorbar((x[:-1]+x[1:])/2, y,dy)\n",
    "plt.show()"
   ]
  },
  {
   "cell_type": "code",
   "execution_count": 153,
   "id": "118abab2",
   "metadata": {},
   "outputs": [
    {
     "data": {
      "image/png": "[encoded data removed]",
      "text/plain": [
       "<Figure size 640x480 with 1 Axes>"
      ]
     },
     "metadata": {},
     "output_type": "display_data"
    }
   ],
   "source": [
    "plt.hist2d(df2.pt1, df2.pt2, bins=100)\n",
    "plt.show()"
   ]
  },
  {
   "cell_type": "code",
   "execution_count": 129,
   "id": "60b124dc",
   "metadata": {},
   "outputs": [
    {
     "data": {
      "image/png": "[encoded data removed]",
      "text/plain": [
       "<Figure size 640x480 with 1 Axes>"
      ]
     },
     "metadata": {},
     "output_type": "display_data"
    }
   ],
   "source": [
    "plt.hist2d(df2.eval(\"cos(phi2)*pt2\"), df2.eval(\"sin(phi2)*pt2\"),bins=100)\n",
    "plt.show()"
   ]
  },
  {
   "cell_type": "code",
   "execution_count": null,
   "id": "118be87b",
   "metadata": {},
   "outputs": [],
   "source": [
    "#version 2: create a single particle df, and then create mixed events from it.  "
   ]
  },
  {
   "cell_type": "code",
   "execution_count": 215,
   "id": "b9cc7894",
   "metadata": {},
   "outputs": [],
   "source": [
    "r = random.Random()\n",
    "#set up parameters for simulation\n",
    "def createDF(mu_q_th=2, sig_q_th=1, h_p_sig=.3, N=100):\n",
    "\n",
    "    dct={f\"{a}_{b}\" :[] for a in \"q h s n\".split() for b in \"xyz\"}\n",
    "    for i in range(N):\n",
    "        q_th=abs(r.gauss(mu_q_th, sig_q_th))#arbitrary function\n",
    "        q_ph=r.uniform(0,np.pi*2)\n",
    "        q_x=np.cos(q_ph)*np.sin(q_th)\n",
    "        q_y=np.sin(q_ph)*np.sin(q_th)\n",
    "        q_z=np.cos(q_th)\n",
    "\n",
    "        q_t=np.hypot(q_x, q_y)\n",
    "\n",
    "        s_x =-q_z*q_x/q_t\n",
    "        s_y =-q_z*q_y/q_t\n",
    "        s_z = q_t\n",
    "\n",
    "        n_x=q_y*s_z-q_z*s_y\n",
    "        n_y=q_z*s_x-q_x*s_z\n",
    "        n_z=q_x*s_y-q_y*s_x\n",
    "\n",
    "        h_x=r.gauss(0, h_p_sig)+q_x\n",
    "        h_y=r.gauss(0, h_p_sig)+q_y\n",
    "        h_z=r.gauss(0, h_p_sig)+q_z\n",
    "\n",
    "\n",
    "        dct['q_x'].append(q_x)\n",
    "        dct['q_y'].append(q_y)\n",
    "        dct['q_z'].append(q_z)\n",
    "        dct['s_x'].append(s_x)\n",
    "        dct['s_y'].append(s_y)\n",
    "        dct['s_z'].append(s_z)\n",
    "\n",
    "        dct['n_x'].append(n_x)\n",
    "        dct['n_y'].append(n_y)\n",
    "        dct['n_z'].append(n_z)\n",
    "\n",
    "        dct[\"h_x\"].append(h_x)\n",
    "        dct[\"h_y\"].append(h_y)\n",
    "        dct[\"h_z\"].append(h_z)\n",
    "\n",
    "\n",
    "    df=pd.DataFrame(dct)\n",
    "    return df\n"
   ]
  },
  {
   "cell_type": "code",
   "execution_count": 253,
   "id": "83e3d8a0",
   "metadata": {},
   "outputs": [],
   "source": [
    "def phi12(df1, df2, i, j):\n",
    "    nx=df1.n_x[i]\n",
    "    ny=df1.n_y[i]\n",
    "    nz=df1.n_z[i]\n",
    "    sx=df1.s_x[i]\n",
    "    sy=df1.s_y[i]\n",
    "    sz=df1.s_z[i]\n",
    "    \n",
    "    h1x=df1.h_x[i]\n",
    "    h1y=df1.h_y[i]\n",
    "    h1z=df1.h_z[i]\n",
    "    h2x=df2.h_x[j]\n",
    "    h2y=df2.h_y[j]\n",
    "    h2z=df2.h_z[j]\n",
    "    \n",
    "    phi1 = np.arctan2(h1x*nx+h1y*ny+h1z*nz, h1x*sx+h1y*sy+h1z*sz)\n",
    "    phi2 = np.arctan2(h2x*nx+h2y*ny+h2z*nz, h2x*sx+h2y*sy+h2z*sz)\n",
    "    dphi= phi1-phi2\n",
    "    if dphi>np.pi:\n",
    "        dphi -= 2*np.pi\n",
    "    if dphi<-np.pi:\n",
    "        dphi += 2*np.pi\n",
    "    return phi1, phi2, dphi\n",
    "        \n",
    "    "
   ]
  },
  {
   "cell_type": "code",
   "execution_count": 251,
   "id": "59c48f5f",
   "metadata": {},
   "outputs": [],
   "source": [
    "def pt2(df1,df2, i,j):\n",
    "    h2x=df2.h_x[j]\n",
    "    h2y=df2.h_y[j]\n",
    "    h2z=df2.h_z[j]\n",
    "    qx=df1.q_x[i]\n",
    "    qy=df1.q_y[i]\n",
    "    qz=df1.q_z[i]\n",
    "    return np.sqrt(h2x**2+h2y**2+h2z**2-(qx*h2x+qy*h2y+qz*h2z)**2)\n",
    "\n",
    "def pt1(df1, i):\n",
    "    h1x=df1.h_x[i]\n",
    "    h1y=df1.h_y[i]\n",
    "    h1z=df1.h_z[i]\n",
    "    qx=df1.q_x[i]\n",
    "    qy=df1.q_y[i]\n",
    "    qz=df1.q_z[i]\n",
    "    return np.sqrt(h1x**2+h1y**2+h1z**2-(qx*h1x+qy*h1y+qz*h1z)**2)\n",
    "    "
   ]
  },
  {
   "cell_type": "code",
   "execution_count": 246,
   "id": "7cfdfefc",
   "metadata": {},
   "outputs": [],
   "source": [
    "def checkDF(df):\n",
    "    for a in \"snq\":\n",
    "        for b in \"snq\":\n",
    "            print(a,b,\"%.5f\"%np.mean(df.eval(f\"{a}_x*{b}_x+{a}_y*{b}_y+{a}_z*{b}_z\")),\"%.5f\"% np.std(df.eval(f\"{a}_x*{b}_x+{a}_y*{b}_y+{a}_z*{b}_z\")))"
   ]
  },
  {
   "cell_type": "code",
   "execution_count": 258,
   "id": "d841791f",
   "metadata": {},
   "outputs": [],
   "source": [
    "df1 = createDF(N=10000)\n",
    "df2 = createDF(N=10000)\n",
    "#checkDF(df1)\n",
    "#checkDF(df2)"
   ]
  },
  {
   "cell_type": "code",
   "execution_count": 295,
   "id": "ee4e0283",
   "metadata": {},
   "outputs": [],
   "source": [
    "\n",
    "def makeMixedDF(df1, df2, cond1=(lambda df,i: True), cond2=(lambda df,i:True)):\n",
    "    dphis=[]\n",
    "    pt2s = []\n",
    "    pt1s = []\n",
    "    phi1s = []\n",
    "    phi2s = []\n",
    "    a={}\n",
    "    for i in range(len(df1)):\n",
    "        if not cond1(df1, i):\n",
    "            continue\n",
    "        for j in range(i, min(i+11, len(df2))):\n",
    "            if not cond2(df2, j):\n",
    "                continue\n",
    "            pt2s.append(pt2(df1, df2, i,j))\n",
    "            phis=phi12(df1, df2, i,j)\n",
    "            phi1s.append(phis[0])\n",
    "            phi2s.append(phis[1])\n",
    "            dphis.append(phis[2])\n",
    "            pt1s.append(pt1(df1, i))\n",
    "            for k in df1.columns:\n",
    "                if k not in a.keys():\n",
    "                    a[k]=[]\n",
    "                a[k].append(df1[k][i])\n",
    "        if i %100==0:\n",
    "            print(\"progress=\",\"%.2f%%\"%(i*100/len(df1)))\n",
    "    df_pair=pd.DataFrame(dict(dphi=dphis, pt2=pt2s, pt1=pt1s, phi1=phi1s, phi2=phi2s,**a))\n",
    "    return df_pair"
   ]
  },
  {
   "cell_type": "code",
   "execution_count": 276,
   "id": "197a4aaf",
   "metadata": {},
   "outputs": [],
   "source": [
    "dfs_pair={}"
   ]
  },
  {
   "cell_type": "code",
   "execution_count": 287,
   "id": "0d7ae615",
   "metadata": {
    "scrolled": true
   },
   "outputs": [
    {
     "name": "stdout",
     "output_type": "stream",
     "text": [
      "progress= 0.00%\n",
      "progress= 1.00%\n",
      "progress= 2.00%\n",
      "progress= 3.00%\n",
      "progress= 4.00%\n",
      "progress= 5.00%\n",
      "progress= 6.00%\n",
      "progress= 7.00%\n",
      "progress= 8.00%\n",
      "progress= 9.00%\n",
      "progress= 10.00%\n",
      "progress= 11.00%\n",
      "progress= 12.00%\n",
      "progress= 13.00%\n",
      "progress= 14.00%\n",
      "progress= 15.00%\n",
      "progress= 16.00%\n",
      "progress= 17.00%\n",
      "progress= 18.00%\n",
      "progress= 19.00%\n",
      "progress= 20.00%\n",
      "progress= 21.00%\n",
      "progress= 22.00%\n",
      "progress= 23.00%\n",
      "progress= 24.00%\n",
      "progress= 25.00%\n",
      "progress= 26.00%\n",
      "progress= 27.00%\n",
      "progress= 28.00%\n",
      "progress= 29.00%\n",
      "progress= 30.00%\n",
      "progress= 31.00%\n",
      "progress= 32.00%\n",
      "progress= 33.00%\n",
      "progress= 34.00%\n",
      "progress= 35.00%\n",
      "progress= 36.00%\n",
      "progress= 37.00%\n",
      "progress= 38.00%\n",
      "progress= 39.00%\n",
      "progress= 40.00%\n",
      "progress= 41.00%\n",
      "progress= 42.00%\n",
      "progress= 43.00%\n",
      "progress= 44.00%\n",
      "progress= 45.00%\n",
      "progress= 46.00%\n",
      "progress= 47.00%\n",
      "progress= 48.00%\n",
      "progress= 49.00%\n",
      "progress= 50.00%\n",
      "progress= 51.00%\n",
      "progress= 52.00%\n",
      "progress= 53.00%\n",
      "progress= 54.00%\n",
      "progress= 55.00%\n",
      "progress= 56.00%\n",
      "progress= 57.00%\n",
      "progress= 58.00%\n",
      "progress= 59.00%\n",
      "progress= 60.00%\n",
      "progress= 61.00%\n",
      "progress= 62.00%\n",
      "progress= 63.00%\n",
      "progress= 64.00%\n",
      "progress= 65.00%\n",
      "progress= 66.00%\n",
      "progress= 67.00%\n",
      "progress= 68.00%\n",
      "progress= 69.00%\n",
      "progress= 70.00%\n",
      "progress= 71.00%\n",
      "progress= 72.00%\n",
      "progress= 73.00%\n",
      "progress= 74.00%\n",
      "progress= 75.00%\n",
      "progress= 76.00%\n",
      "progress= 77.00%\n",
      "progress= 78.00%\n",
      "progress= 79.00%\n",
      "progress= 80.00%\n",
      "progress= 81.00%\n",
      "progress= 82.00%\n",
      "progress= 83.00%\n",
      "progress= 84.00%\n",
      "progress= 85.00%\n",
      "progress= 86.00%\n",
      "progress= 87.00%\n",
      "progress= 88.00%\n",
      "progress= 89.00%\n",
      "progress= 90.00%\n",
      "progress= 91.00%\n",
      "progress= 92.00%\n",
      "progress= 93.00%\n",
      "progress= 94.00%\n",
      "progress= 95.00%\n",
      "progress= 96.00%\n",
      "progress= 97.00%\n",
      "progress= 98.00%\n",
      "progress= 99.00%\n"
     ]
    }
   ],
   "source": [
    "dfs_pair['nocond']=makeMixedDF(df1, df2)"
   ]
  },
  {
   "cell_type": "code",
   "execution_count": 288,
   "id": "dc7a9f6c",
   "metadata": {},
   "outputs": [
    {
     "name": "stdout",
     "output_type": "stream",
     "text": [
      "progress= 0.00%\n",
      "progress= 4.00%\n",
      "progress= 5.00%\n",
      "progress= 6.00%\n",
      "progress= 8.00%\n",
      "progress= 11.00%\n",
      "progress= 12.00%\n",
      "progress= 13.00%\n",
      "progress= 17.00%\n",
      "progress= 19.00%\n",
      "progress= 24.00%\n",
      "progress= 25.00%\n",
      "progress= 29.00%\n",
      "progress= 32.00%\n",
      "progress= 33.00%\n",
      "progress= 36.00%\n",
      "progress= 38.00%\n",
      "progress= 39.00%\n",
      "progress= 40.00%\n",
      "progress= 41.00%\n",
      "progress= 48.00%\n",
      "progress= 49.00%\n",
      "progress= 50.00%\n",
      "progress= 59.00%\n",
      "progress= 60.00%\n",
      "progress= 64.00%\n",
      "progress= 65.00%\n",
      "progress= 66.00%\n",
      "progress= 71.00%\n",
      "progress= 74.00%\n",
      "progress= 75.00%\n",
      "progress= 78.00%\n",
      "progress= 84.00%\n",
      "progress= 90.00%\n",
      "progress= 93.00%\n",
      "progress= 95.00%\n",
      "progress= 97.00%\n",
      "progress= 98.00%\n"
     ]
    }
   ],
   "source": [
    "cond1= lambda df, i: df.h_z[i]/np.hypot(df.h_x[i], df.h_y[i])<.5 and df.h_z[i]/np.hypot(df.h_x[i], df.h_y[i])>-.5\n",
    "dfs_pair['cond1']=makeMixedDF(df1, df2, cond1=cond1)"
   ]
  },
  {
   "cell_type": "code",
   "execution_count": 296,
   "id": "5f2d8dbf",
   "metadata": {},
   "outputs": [
    {
     "name": "stdout",
     "output_type": "stream",
     "text": [
      "progress= 0.00%\n",
      "progress= 1.00%\n",
      "progress= 2.00%\n",
      "progress= 3.00%\n",
      "progress= 4.00%\n",
      "progress= 5.00%\n",
      "progress= 6.00%\n",
      "progress= 7.00%\n",
      "progress= 8.00%\n",
      "progress= 9.00%\n",
      "progress= 10.00%\n",
      "progress= 11.00%\n",
      "progress= 12.00%\n",
      "progress= 13.00%\n",
      "progress= 14.00%\n",
      "progress= 15.00%\n",
      "progress= 16.00%\n",
      "progress= 17.00%\n",
      "progress= 18.00%\n",
      "progress= 19.00%\n",
      "progress= 20.00%\n",
      "progress= 21.00%\n",
      "progress= 22.00%\n",
      "progress= 23.00%\n",
      "progress= 24.00%\n",
      "progress= 25.00%\n",
      "progress= 26.00%\n",
      "progress= 27.00%\n",
      "progress= 28.00%\n",
      "progress= 29.00%\n",
      "progress= 30.00%\n",
      "progress= 31.00%\n",
      "progress= 32.00%\n",
      "progress= 33.00%\n",
      "progress= 34.00%\n",
      "progress= 35.00%\n",
      "progress= 36.00%\n",
      "progress= 37.00%\n",
      "progress= 38.00%\n",
      "progress= 39.00%\n",
      "progress= 40.00%\n",
      "progress= 41.00%\n",
      "progress= 42.00%\n",
      "progress= 43.00%\n",
      "progress= 44.00%\n",
      "progress= 45.00%\n",
      "progress= 46.00%\n",
      "progress= 47.00%\n",
      "progress= 48.00%\n",
      "progress= 49.00%\n",
      "progress= 50.00%\n",
      "progress= 51.00%\n",
      "progress= 52.00%\n",
      "progress= 53.00%\n",
      "progress= 54.00%\n",
      "progress= 55.00%\n",
      "progress= 56.00%\n",
      "progress= 57.00%\n",
      "progress= 58.00%\n",
      "progress= 59.00%\n",
      "progress= 60.00%\n",
      "progress= 61.00%\n",
      "progress= 62.00%\n",
      "progress= 63.00%\n",
      "progress= 64.00%\n",
      "progress= 65.00%\n",
      "progress= 66.00%\n",
      "progress= 67.00%\n",
      "progress= 68.00%\n",
      "progress= 69.00%\n",
      "progress= 70.00%\n",
      "progress= 71.00%\n",
      "progress= 72.00%\n",
      "progress= 73.00%\n",
      "progress= 74.00%\n",
      "progress= 75.00%\n",
      "progress= 76.00%\n",
      "progress= 77.00%\n",
      "progress= 78.00%\n",
      "progress= 79.00%\n",
      "progress= 80.00%\n",
      "progress= 81.00%\n",
      "progress= 82.00%\n",
      "progress= 83.00%\n",
      "progress= 84.00%\n",
      "progress= 85.00%\n",
      "progress= 86.00%\n",
      "progress= 87.00%\n",
      "progress= 88.00%\n",
      "progress= 89.00%\n",
      "progress= 90.00%\n",
      "progress= 91.00%\n",
      "progress= 92.00%\n",
      "progress= 93.00%\n",
      "progress= 94.00%\n",
      "progress= 95.00%\n",
      "progress= 96.00%\n",
      "progress= 97.00%\n",
      "progress= 98.00%\n",
      "progress= 99.00%\n"
     ]
    }
   ],
   "source": [
    "cond2= lambda df, i: df.h_z[i]/np.hypot(df.h_x[i], df.h_y[i])<.5 and df.h_z[i]/np.hypot(df.h_x[i], df.h_y[i])>-.5\n",
    "dfs_pair['cond2']=makeMixedDF(df1, df2, cond2=cond2)"
   ]
  },
  {
   "cell_type": "code",
   "execution_count": 297,
   "id": "80c0602b",
   "metadata": {
    "scrolled": true
   },
   "outputs": [
    {
     "name": "stdout",
     "output_type": "stream",
     "text": [
      "0.6181795283206797\n",
      "0.0003472842765087035\n",
      "0.7878188838951744\n"
     ]
    },
    {
     "data": {
      "image/png": "[encoded data removed]",
      "text/plain": [
       "<Figure size 640x480 with 1 Axes>"
      ]
     },
     "metadata": {},
     "output_type": "display_data"
    }
   ],
   "source": [
    "for k in dfs_pair:\n",
    "    \n",
    "    y,x=np.histogram(dfs_pair[k].query(\"pt2>.2 and pt1>.2\").dphi, bins=8, range=(0, np.pi))\n",
    "    from scipy.stats import chi2\n",
    "\n",
    "    y, dy= y*len(y)/sum(y), np.sqrt(y)*len(y)/sum(y)\n",
    "    print(chi2.sf(sum((y-1)**2/dy**2),7))\n",
    "    plt.errorbar((x[:-1]+x[1:])/2, y,dy)\n",
    "plt.show()"
   ]
  },
  {
   "cell_type": "code",
   "execution_count": null,
   "id": "c21c4a89",
   "metadata": {},
   "outputs": [],
   "source": []
  }
 ],
 "metadata": {
  "kernelspec": {
   "display_name": "Python 3",
   "language": "python",
   "name": "python3"
  },
  "language_info": {
   "codemirror_mode": {
    "name": "ipython",
    "version": 3
   },
   "file_extension": ".py",
   "mimetype": "text/x-python",
   "name": "python",
   "nbconvert_exporter": "python",
   "pygments_lexer": "ipython3",
   "version": "3.8.10"
  }
 },
 "nbformat": 4,
 "nbformat_minor": 5
}
