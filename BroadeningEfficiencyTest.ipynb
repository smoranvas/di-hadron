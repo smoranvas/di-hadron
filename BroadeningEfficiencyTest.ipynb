{
 "cells": [
  {
   "cell_type": "code",
   "execution_count": 3,
   "id": "c5084195",
   "metadata": {},
   "outputs": [],
   "source": [
    "#test the effects of acceptance on broadening\n",
    "import numpy as np, matplotlib.pyplot as plt, random"
   ]
  },
  {
   "cell_type": "code",
   "execution_count": 4,
   "id": "6ea4eb19",
   "metadata": {},
   "outputs": [],
   "source": [
    "r=random.Random()"
   ]
  },
  {
   "cell_type": "code",
   "execution_count": 44,
   "id": "8c48b70c",
   "metadata": {},
   "outputs": [
    {
     "name": "stdout",
     "output_type": "stream",
     "text": [
      "-6.613149854395317e-07 0.026571811623272133\n"
     ]
    },
    {
     "data": {
      "image/png": "[encoded data removed]",
      "text/plain": [
       "<Figure size 640x480 with 1 Axes>"
      ]
     },
     "metadata": {},
     "output_type": "display_data"
    }
   ],
   "source": [
    "bins=8\n",
    "\n",
    "sigmaD=1.1\n",
    "sigmaA=1.3\n",
    "phi=np.linspace(np.pi/(2*bins), (2*bins-1)*np.pi/(2*bins), bins)\n",
    "yD=np.exp(-(phi-np.pi)**2/(2*sigmaD**2))\n",
    "yA=np.exp(-(phi-np.pi)**2/(2*sigmaA**2))\n",
    "\n",
    "syst_effD=0.09 #systematic on the efficiency for D\n",
    "syst_diff_eff=0.02 #systematic for the difference in efficiency between D and A\n",
    "\n",
    "broadenings=[]\n",
    "\n",
    "def broadening(yDm,yAm):\n",
    "    b2=sum(yAm*(np.pi-phi)**2)/sum(yAm)-sum(yDm*(np.pi-phi)**2)/sum(yDm)\n",
    "    \n",
    "    return np.sqrt(abs(b2))*np.sign(b2)\n",
    "\n",
    "for i in range(100):\n",
    "    effD=[]\n",
    "    effA=[]\n",
    "    for j in range(bins):\n",
    "        effD.append(r.gauss(1,syst_effD))\n",
    "        effA.append(r.gauss(effD[-1], syst_diff_eff))\n",
    "        #print(yD*effD,yA*effA)\n",
    "    b=broadening(yD*effD,yA*effA)\n",
    "    broadenings.append(b)\n",
    "plt.hist(broadenings, bins=30)\n",
    "plt.axvline(broadening(yD,yA), color='red')\n",
    "print(np.mean(broadenings)-broadening(yD,yA), np.std(broadenings)/np.mean(broadenings))\n",
    "plt.xlabel(\"broadening [rad]\")\n",
    "plt.ylabel(\"counts\")\n",
    "plt.show()"
   ]
  },
  {
   "cell_type": "code",
   "execution_count": 20,
   "id": "18575dbc",
   "metadata": {},
   "outputs": [
    {
     "name": "stdout",
     "output_type": "stream",
     "text": [
      "Help on method gauss in module random:\n",
      "\n",
      "gauss(mu, sigma) method of random.Random instance\n",
      "    Gaussian distribution.\n",
      "    \n",
      "    mu is the mean, and sigma is the standard deviation.  This is\n",
      "    slightly faster than the normalvariate() function.\n",
      "    \n",
      "    Not thread-safe without a lock around calls.\n",
      "\n"
     ]
    }
   ],
   "source": []
  },
  {
   "cell_type": "code",
   "execution_count": null,
   "id": "65095b2e",
   "metadata": {},
   "outputs": [],
   "source": []
  },
  {
   "cell_type": "code",
   "execution_count": null,
   "id": "51229fd2",
   "metadata": {},
   "outputs": [],
   "source": []
  }
 ],
 "metadata": {
  "kernelspec": {
   "display_name": "Python 3",
   "language": "python",
   "name": "python3"
  },
  "language_info": {
   "codemirror_mode": {
    "name": "ipython",
    "version": 3
   },
   "file_extension": ".py",
   "mimetype": "text/x-python",
   "name": "python",
   "nbconvert_exporter": "python",
   "pygments_lexer": "ipython3",
   "version": "3.8.10"
  }
 },
 "nbformat": 4,
 "nbformat_minor": 5
}
